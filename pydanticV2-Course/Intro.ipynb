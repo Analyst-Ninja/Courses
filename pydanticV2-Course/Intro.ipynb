{
 "cells": [
  {
   "cell_type": "markdown",
   "id": "3d68eeb0-39a6-400b-b23a-afd2e5f4286e",
   "metadata": {},
   "source": [
    "### Intro to Pydantic"
   ]
  },
  {
   "cell_type": "markdown",
   "id": "30a593e3-8bf8-4d0c-875d-5f02b6bd6f9b",
   "metadata": {},
   "source": [
    "#### Basic Model"
   ]
  },
  {
   "cell_type": "code",
   "execution_count": 1,
   "id": "940bdde2-3456-4f09-88f0-44d3f66d3469",
   "metadata": {},
   "outputs": [],
   "source": [
    "from pydantic import BaseModel"
   ]
  },
  {
   "cell_type": "code",
   "execution_count": 2,
   "id": "5ea03aa5-8ecb-4f9d-a710-4cc347ca9e31",
   "metadata": {},
   "outputs": [],
   "source": [
    "class Person(BaseModel):\n",
    "    first_name: str\n",
    "    last_name: str\n",
    "    age: int"
   ]
  },
  {
   "cell_type": "code",
   "execution_count": 8,
   "id": "a8e80cf8-a170-4ea8-9b4f-5a133a507e15",
   "metadata": {},
   "outputs": [
    {
     "data": {
      "text/plain": [
       "Person(first_name='Jhon', last_name='Smith', age=24)"
      ]
     },
     "execution_count": 8,
     "metadata": {},
     "output_type": "execute_result"
    }
   ],
   "source": [
    "p = Person(first_name='Jhon', last_name='Smith', age=24)\n",
    "p"
   ]
  },
  {
   "cell_type": "code",
   "execution_count": 10,
   "id": "43a7f775-1674-487c-b765-0c820e9f0777",
   "metadata": {},
   "outputs": [
    {
     "data": {
      "text/plain": [
       "Person(first_name='Jhon', last_name='Smith', age=24)"
      ]
     },
     "execution_count": 10,
     "metadata": {},
     "output_type": "execute_result"
    }
   ],
   "source": [
    "p = Person(first_name='Jhon', last_name='Smith', age='24')\n",
    "p"
   ]
  },
  {
   "cell_type": "code",
   "execution_count": 13,
   "id": "7e1b372c-3099-413a-a5d2-598195569ea6",
   "metadata": {},
   "outputs": [
    {
     "name": "stdout",
     "output_type": "stream",
     "text": [
      "2 validation errors for Person\n",
      "last_name\n",
      "  Input should be a valid string [type=string_type, input_value=100, input_type=int]\n",
      "    For further information visit https://errors.pydantic.dev/2.8/v/string_type\n",
      "age\n",
      "  Input should be a valid integer, unable to parse string as an integer [type=int_parsing, input_value='24kjb', input_type=str]\n",
      "    For further information visit https://errors.pydantic.dev/2.8/v/int_parsing\n"
     ]
    }
   ],
   "source": [
    "from pydantic import ValidationError\n",
    "\n",
    "try:\n",
    "    p = Person(first_name='Jhon', last_name=100, age='24kjb')\n",
    "    p\n",
    "except Exception as e:\n",
    "    print(e)"
   ]
  },
  {
   "cell_type": "markdown",
   "id": "9466d92f-5f88-4c46-a849-141ba5a2fcde",
   "metadata": {},
   "source": [
    "##### Mutation --> While changing the data it will not check for the validations by default"
   ]
  },
  {
   "cell_type": "code",
   "execution_count": 14,
   "id": "2d446351-8268-494c-bdd0-283248175d71",
   "metadata": {},
   "outputs": [
    {
     "data": {
      "text/plain": [
       "Person(first_name='Jhon', last_name='Smith', age='junk')"
      ]
     },
     "execution_count": 14,
     "metadata": {},
     "output_type": "execute_result"
    }
   ],
   "source": [
    "p.age = 'junk'\n",
    "p"
   ]
  },
  {
   "cell_type": "markdown",
   "id": "356ac0eb-58b3-4b40-8711-f8eea3a3ffe9",
   "metadata": {},
   "source": [
    "#### Validation Exceptions"
   ]
  },
  {
   "cell_type": "code",
   "execution_count": 27,
   "id": "0d8101b0-906a-4bc7-b21f-2be1a7d9111b",
   "metadata": {},
   "outputs": [],
   "source": [
    "try:\n",
    "    p = Person(first_name='Jhon', last_name=100, age='24kjb')\n",
    "    p\n",
    "except Exception as e:\n",
    "    exceptions = e"
   ]
  },
  {
   "cell_type": "code",
   "execution_count": 28,
   "id": "aa0fb068-c21e-44cf-9cba-44b3a4e9979a",
   "metadata": {},
   "outputs": [
    {
     "data": {
      "text/plain": [
       "[{'type': 'string_type',\n",
       "  'loc': ('last_name',),\n",
       "  'msg': 'Input should be a valid string',\n",
       "  'input': 100,\n",
       "  'url': 'https://errors.pydantic.dev/2.8/v/string_type'},\n",
       " {'type': 'int_parsing',\n",
       "  'loc': ('age',),\n",
       "  'msg': 'Input should be a valid integer, unable to parse string as an integer',\n",
       "  'input': '24kjb',\n",
       "  'url': 'https://errors.pydantic.dev/2.8/v/int_parsing'}]"
      ]
     },
     "execution_count": 28,
     "metadata": {},
     "output_type": "execute_result"
    }
   ],
   "source": [
    "exceptions.errors()"
   ]
  },
  {
   "cell_type": "markdown",
   "id": "70ec3cea-0659-497c-a4ee-72b68fbee633",
   "metadata": {},
   "source": [
    "#### Deserializing the data"
   ]
  },
  {
   "cell_type": "code",
   "execution_count": 35,
   "id": "9a7063da-1837-4b16-afe5-78be895d3f54",
   "metadata": {},
   "outputs": [
    {
     "data": {
      "text/plain": [
       "Person(first_name='Rohit', last_name='Kumar', age=27)"
      ]
     },
     "execution_count": 35,
     "metadata": {},
     "output_type": "execute_result"
    }
   ],
   "source": [
    "# Serializing data from dictionary\n",
    "\n",
    "data = {\n",
    "    'first_name' : \"Rohit\",\n",
    "    'last_name' : \"Kumar\",\n",
    "    'age' : 27,\n",
    "}\n",
    "\n",
    "Person.model_validate(data)"
   ]
  },
  {
   "cell_type": "code",
   "execution_count": 36,
   "id": "fe0be02b-0296-4d5e-bcf9-af36a41435bd",
   "metadata": {},
   "outputs": [
    {
     "data": {
      "text/plain": [
       "Person(first_name='Rohit', last_name='Kumar', age=27)"
      ]
     },
     "execution_count": 36,
     "metadata": {},
     "output_type": "execute_result"
    }
   ],
   "source": [
    "# Serializing data from JSON object\n",
    "\n",
    "data = '''\n",
    "{\n",
    "    \"first_name\" : \"Rohit\",\n",
    "    \"last_name\" : \"Kumar\",\n",
    "    \"age\" : 27\n",
    "}\n",
    "'''\n",
    "\n",
    "Person.model_validate_json(data)"
   ]
  },
  {
   "cell_type": "markdown",
   "id": "4af73f5d-df1f-4a82-a8c0-ebc7af84bc9c",
   "metadata": {},
   "source": [
    "#### Required vs Optional Fields"
   ]
  },
  {
   "cell_type": "code",
   "execution_count": 37,
   "id": "7aa291ae-6b76-42eb-9b16-e888395fecd6",
   "metadata": {},
   "outputs": [
    {
     "name": "stdout",
     "output_type": "stream",
     "text": [
      "2 validation errors for Person\n",
      "first_name\n",
      "  Field required [type=missing, input_value={'age': 27}, input_type=dict]\n",
      "    For further information visit https://errors.pydantic.dev/2.8/v/missing\n",
      "last_name\n",
      "  Field required [type=missing, input_value={'age': 27}, input_type=dict]\n",
      "    For further information visit https://errors.pydantic.dev/2.8/v/missing\n"
     ]
    }
   ],
   "source": [
    "try:\n",
    "    Person(age=27)\n",
    "except Exception as e:\n",
    "    print(e)"
   ]
  },
  {
   "cell_type": "code",
   "execution_count": 38,
   "id": "8e7e22b5-3324-4c71-935f-3d764d1d56e5",
   "metadata": {},
   "outputs": [
    {
     "name": "stdout",
     "output_type": "stream",
     "text": [
      "2 validation errors for Person\n",
      "first_name\n",
      "  Field required [type=missing, input_value={'age': 27}, input_type=dict]\n",
      "    For further information visit https://errors.pydantic.dev/2.8/v/missing\n",
      "last_name\n",
      "  Field required [type=missing, input_value={'age': 27}, input_type=dict]\n",
      "    For further information visit https://errors.pydantic.dev/2.8/v/missing\n"
     ]
    }
   ],
   "source": [
    "data = {'age':27}\n",
    "\n",
    "try:\n",
    "    Person.model_validate(data)\n",
    "except Exception as e:\n",
    "    print(e)"
   ]
  },
  {
   "cell_type": "code",
   "execution_count": 39,
   "id": "19a6df35-56d6-4310-9171-1d17e638d045",
   "metadata": {},
   "outputs": [],
   "source": [
    "class Person(BaseModel):\n",
    "    first_name: str \n",
    "    last_name: str\n",
    "    age: int = 0"
   ]
  },
  {
   "cell_type": "code",
   "execution_count": 40,
   "id": "7a6f4b27-1d13-42af-a42f-77ce818f09ad",
   "metadata": {},
   "outputs": [
    {
     "data": {
      "text/plain": [
       "{'first_name': FieldInfo(annotation=str, required=True),\n",
       " 'last_name': FieldInfo(annotation=str, required=True),\n",
       " 'age': FieldInfo(annotation=int, required=False, default=0)}"
      ]
     },
     "execution_count": 40,
     "metadata": {},
     "output_type": "execute_result"
    }
   ],
   "source": [
    "Person.model_fields"
   ]
  },
  {
   "cell_type": "code",
   "execution_count": 42,
   "id": "596f7da1-a7c3-442f-8a54-b312d538a447",
   "metadata": {},
   "outputs": [
    {
     "data": {
      "text/plain": [
       "(Person(first_name='Rohit', last_name='Kumar', age=0),\n",
       " Person(first_name='Rohit', last_name='Kumar', age=27))"
      ]
     },
     "execution_count": 42,
     "metadata": {},
     "output_type": "execute_result"
    }
   ],
   "source": [
    "Person(first_name=\"Rohit\",last_name=\"Kumar\"),Person(first_name=\"Rohit\",last_name=\"Kumar\", age=27) "
   ]
  },
  {
   "cell_type": "markdown",
   "id": "26e7d6e0-ecc8-4445-9989-a712127315dd",
   "metadata": {},
   "source": [
    "#### Nullable Fiedls"
   ]
  },
  {
   "cell_type": "code",
   "execution_count": 44,
   "id": "2e1b83bf-297e-4e6a-b1b8-074f18ec917a",
   "metadata": {},
   "outputs": [],
   "source": [
    "class Person(BaseModel):\n",
    "    # None and String are not of same type\n",
    "    first_name: str | None = None\n",
    "    last_name: str\n",
    "    age: int = 0"
   ]
  },
  {
   "cell_type": "code",
   "execution_count": 45,
   "id": "67fed9fc-9f53-44b1-9876-73119d9e8c6e",
   "metadata": {},
   "outputs": [
    {
     "data": {
      "text/plain": [
       "{'first_name': FieldInfo(annotation=Union[str, NoneType], required=False, default=None),\n",
       " 'last_name': FieldInfo(annotation=str, required=True),\n",
       " 'age': FieldInfo(annotation=int, required=False, default=0)}"
      ]
     },
     "execution_count": 45,
     "metadata": {},
     "output_type": "execute_result"
    }
   ],
   "source": [
    "Person.model_fields"
   ]
  },
  {
   "cell_type": "code",
   "execution_count": 46,
   "id": "2564bfc1-4785-40e7-9285-bdd7d71f5979",
   "metadata": {},
   "outputs": [
    {
     "data": {
      "text/plain": [
       "Person(first_name=None, last_name='Kumar', age=0)"
      ]
     },
     "execution_count": 46,
     "metadata": {},
     "output_type": "execute_result"
    }
   ],
   "source": [
    "Person(last_name=\"Kumar\")"
   ]
  },
  {
   "cell_type": "code",
   "execution_count": 47,
   "id": "c1ac9e78-c1a8-41ad-95ec-0bce372d8e80",
   "metadata": {},
   "outputs": [],
   "source": [
    "from typing import Union\n",
    "\n",
    "class Person(BaseModel):\n",
    "    first_name: Union[str, None] = None\n",
    "    last_name: str\n",
    "    age: int = 0"
   ]
  },
  {
   "cell_type": "code",
   "execution_count": 48,
   "id": "d4691d44-175f-4e4f-bdbc-b10cfc1a44fa",
   "metadata": {},
   "outputs": [
    {
     "data": {
      "text/plain": [
       "{'first_name': FieldInfo(annotation=Union[str, NoneType], required=False, default=None),\n",
       " 'last_name': FieldInfo(annotation=str, required=True),\n",
       " 'age': FieldInfo(annotation=int, required=False, default=0)}"
      ]
     },
     "execution_count": 48,
     "metadata": {},
     "output_type": "execute_result"
    }
   ],
   "source": [
    "Person.model_fields"
   ]
  },
  {
   "cell_type": "code",
   "execution_count": 50,
   "id": "e24b227b-6626-4dcb-a5a8-0b504aaea6ad",
   "metadata": {},
   "outputs": [
    {
     "data": {
      "text/plain": [
       "{'first_name': FieldInfo(annotation=Union[str, NoneType], required=True),\n",
       " 'last_name': FieldInfo(annotation=str, required=True),\n",
       " 'age': FieldInfo(annotation=int, required=False, default=0)}"
      ]
     },
     "execution_count": 50,
     "metadata": {},
     "output_type": "execute_result"
    }
   ],
   "source": [
    "from typing import Optional\n",
    "\n",
    "class Person(BaseModel):\n",
    "    first_name: Optional[str]\n",
    "    last_name: str\n",
    "    age: int = 0\n",
    "\n",
    "Person.model_fields"
   ]
  },
  {
   "cell_type": "code",
   "execution_count": 53,
   "id": "67b82bd7-b1fd-4d7a-9af5-18d211422414",
   "metadata": {},
   "outputs": [
    {
     "data": {
      "text/plain": [
       "{'first_name': FieldInfo(annotation=Union[str, NoneType], required=False, default=None),\n",
       " 'last_name': FieldInfo(annotation=str, required=True),\n",
       " 'age': FieldInfo(annotation=int, required=False, default=0),\n",
       " 'lucky_numbers': FieldInfo(annotation=list[int], required=False, default=[])}"
      ]
     },
     "execution_count": 53,
     "metadata": {},
     "output_type": "execute_result"
    }
   ],
   "source": [
    "class Person(BaseModel):\n",
    "    first_name: str | None = None\n",
    "    last_name: str\n",
    "    age: int = 0\n",
    "    lucky_numbers: list[int] = []\n",
    "\n",
    "Person.model_fields"
   ]
  },
  {
   "cell_type": "code",
   "execution_count": 56,
   "id": "9dfd7d11-5cc3-49c3-ab54-4932e4f1c7fd",
   "metadata": {},
   "outputs": [
    {
     "data": {
      "text/plain": [
       "Person(first_name=None, last_name='Kumar', age=0, lucky_numbers=[1, 2, 3])"
      ]
     },
     "execution_count": 56,
     "metadata": {},
     "output_type": "execute_result"
    }
   ],
   "source": [
    "# Coersion is happening --> Trying to converting the data to specified dataType where possible\n",
    "p = Person(last_name='Kumar',lucky_numbers=[1,'2',3.0])\n",
    "p"
   ]
  },
  {
   "cell_type": "code",
   "execution_count": 59,
   "id": "27484dc0-5f67-4407-9f41-0790cfcff678",
   "metadata": {},
   "outputs": [
    {
     "name": "stdout",
     "output_type": "stream",
     "text": [
      "{1: <class 'int'>}\n",
      "{2: <class 'int'>}\n",
      "{3: <class 'int'>}\n"
     ]
    }
   ],
   "source": [
    "for num in p.lucky_numbers:\n",
    "    print({num : type(num)})"
   ]
  },
  {
   "cell_type": "markdown",
   "id": "05d43066-6890-41d7-9afb-9c94f698f2fe",
   "metadata": {},
   "source": [
    "#### Aliased and Field Classes"
   ]
  },
  {
   "cell_type": "code",
   "execution_count": 1,
   "id": "ab414621-f817-40e7-bd42-fa788caa6dfa",
   "metadata": {},
   "outputs": [],
   "source": [
    "data = {\n",
    "    'id': 1,\n",
    "    'First Name': 'Rohit',\n",
    "    'LASTNAME': 'Kumar',\n",
    "    'Age IN YEARS': 27,\n",
    "}"
   ]
  },
  {
   "cell_type": "code",
   "execution_count": 15,
   "id": "509580ee-ae40-42c8-aced-d7954b21875d",
   "metadata": {},
   "outputs": [],
   "source": [
    "from pydantic import Field, BaseModel, ValidationError\n",
    "\n",
    "class Person(BaseModel):\n",
    "    id_:int = Field(alias='id')\n",
    "    first_name:str = Field(alias='First Name')\n",
    "    last_name:str = Field(alias='LASTNAME')\n",
    "    age:int = Field(alias='Age IN YEARS')"
   ]
  },
  {
   "cell_type": "code",
   "execution_count": 6,
   "id": "13f56d7b-c713-4066-999b-b5284d9d714e",
   "metadata": {},
   "outputs": [
    {
     "data": {
      "text/plain": [
       "Person(id_=1, first_name='Rohit', last_name='Kumar', age=27)"
      ]
     },
     "execution_count": 6,
     "metadata": {},
     "output_type": "execute_result"
    }
   ],
   "source": [
    "p = Person.model_validate(data)\n",
    "p"
   ]
  },
  {
   "cell_type": "code",
   "execution_count": 7,
   "id": "24f01659-bdd5-4103-9809-ceb0fc030450",
   "metadata": {},
   "outputs": [
    {
     "data": {
      "text/plain": [
       "{'id_': 1, 'first_name': 'Rohit', 'last_name': 'Kumar', 'age': 27}"
      ]
     },
     "execution_count": 7,
     "metadata": {},
     "output_type": "execute_result"
    }
   ],
   "source": [
    "p.model_dump()"
   ]
  },
  {
   "cell_type": "code",
   "execution_count": 8,
   "id": "c4e02dcc-fad4-4a0b-98e9-2f3e21de62c3",
   "metadata": {},
   "outputs": [
    {
     "data": {
      "text/plain": [
       "'{\"id_\":1,\"first_name\":\"Rohit\",\"last_name\":\"Kumar\",\"age\":27}'"
      ]
     },
     "execution_count": 8,
     "metadata": {},
     "output_type": "execute_result"
    }
   ],
   "source": [
    "p.model_dump_json()"
   ]
  },
  {
   "cell_type": "code",
   "execution_count": 9,
   "id": "e6c4e986-30b5-4162-9fe2-304a3dffd9fd",
   "metadata": {},
   "outputs": [
    {
     "data": {
      "text/plain": [
       "{'id': 1, 'First Name': 'Rohit', 'LASTNAME': 'Kumar', 'Age IN YEARS': 27}"
      ]
     },
     "execution_count": 9,
     "metadata": {},
     "output_type": "execute_result"
    }
   ],
   "source": [
    "p.model_dump(by_alias=True)"
   ]
  },
  {
   "cell_type": "code",
   "execution_count": 10,
   "id": "b7c570a2-adf5-456d-aa26-fa599b51c020",
   "metadata": {},
   "outputs": [
    {
     "data": {
      "text/plain": [
       "'{\"id\":1,\"First Name\":\"Rohit\",\"LASTNAME\":\"Kumar\",\"Age IN YEARS\":27}'"
      ]
     },
     "execution_count": 10,
     "metadata": {},
     "output_type": "execute_result"
    }
   ],
   "source": [
    "p.model_dump_json(by_alias=True)"
   ]
  },
  {
   "cell_type": "code",
   "execution_count": 16,
   "id": "6a5601f6-6263-4f76-b860-d87a80d6b5ab",
   "metadata": {},
   "outputs": [],
   "source": [
    "class Person(BaseModel):\n",
    "    first_name:str | None = Field(alias='firstName', default=None)\n",
    "    last_name:str = Field(alias='lastName')"
   ]
  },
  {
   "cell_type": "code",
   "execution_count": 17,
   "id": "19b27d03-36f6-4f05-8fd9-d1cf08bf19c0",
   "metadata": {},
   "outputs": [
    {
     "data": {
      "text/plain": [
       "Person(first_name=None, last_name='Kumar')"
      ]
     },
     "execution_count": 17,
     "metadata": {},
     "output_type": "execute_result"
    }
   ],
   "source": [
    "data = {\n",
    "    'lastName' : 'Kumar'\n",
    "}\n",
    "\n",
    "Person.model_validate(data)"
   ]
  },
  {
   "cell_type": "code",
   "execution_count": 20,
   "id": "79b35721-7d2d-4c0d-a66e-8c2bab539afc",
   "metadata": {},
   "outputs": [
    {
     "name": "stdout",
     "output_type": "stream",
     "text": [
      "1 validation error for Person\n",
      "lastName\n",
      "  Field required [type=missing, input_value={'last_name': 'Kumar'}, input_type=dict]\n",
      "    For further information visit https://errors.pydantic.dev/2.8/v/missing\n"
     ]
    }
   ],
   "source": [
    "try:\n",
    "    Person(last_name='Kumar')\n",
    "except ValidationError as e:\n",
    "    print(e)"
   ]
  },
  {
   "cell_type": "code",
   "execution_count": 21,
   "id": "c2710441-6743-4943-ada1-b3cf4ccdf98f",
   "metadata": {},
   "outputs": [
    {
     "name": "stdout",
     "output_type": "stream",
     "text": [
      "1 validation error for Person\n",
      "lastName\n",
      "  Field required [type=missing, input_value={'last_name': 'Kumar'}, input_type=dict]\n",
      "    For further information visit https://errors.pydantic.dev/2.8/v/missing\n"
     ]
    }
   ],
   "source": [
    "data = {\n",
    "    'last_name' : 'Kumar' \n",
    "}\n",
    "\n",
    "try:\n",
    "    Person.model_validate(data)\n",
    "except ValidationError as e:\n",
    "    print(e)"
   ]
  },
  {
   "cell_type": "markdown",
   "id": "c1a15d07-803f-4ef9-ba62-ca808c507952",
   "metadata": {},
   "source": [
    "#### Model Config: Populate by Name"
   ]
  },
  {
   "cell_type": "code",
   "execution_count": 22,
   "id": "3fa3a660-62e2-4eac-a49b-5faa4aace5cc",
   "metadata": {},
   "outputs": [],
   "source": [
    "from pydantic import ConfigDict\n",
    "\n",
    "class Person(BaseModel):\n",
    "    model_config = ConfigDict(populate_by_name=True)\n",
    "\n",
    "    first_name:str | None = Field(alias='firstName', default=None)\n",
    "    last_name:str = Field(alias='lastName')"
   ]
  },
  {
   "cell_type": "code",
   "execution_count": 24,
   "id": "c08dd04a-5e6f-4e4d-80a6-f75bff2c5809",
   "metadata": {},
   "outputs": [
    {
     "data": {
      "text/plain": [
       "Person(first_name='Rohit', last_name='Kumar')"
      ]
     },
     "execution_count": 24,
     "metadata": {},
     "output_type": "execute_result"
    }
   ],
   "source": [
    "p = Person(first_name='Rohit', lastName='Kumar')\n",
    "p"
   ]
  },
  {
   "cell_type": "code",
   "execution_count": 26,
   "id": "e18b5a84-28b0-4a86-aee9-49396c61d5bb",
   "metadata": {},
   "outputs": [
    {
     "data": {
      "text/plain": [
       "Person(first_name='Rohit', last_name='Kumar')"
      ]
     },
     "execution_count": 26,
     "metadata": {},
     "output_type": "execute_result"
    }
   ],
   "source": [
    "data = {\n",
    "    'first_name' : 'Rohit',\n",
    "    'lastName' : 'Kumar'\n",
    "}\n",
    "\n",
    "Person.model_validate(data)"
   ]
  },
  {
   "cell_type": "markdown",
   "id": "5e793a87-6c3c-4e13-b9e0-a6a5aec5d82a",
   "metadata": {},
   "source": [
    "#### Mutable Defaults"
   ]
  },
  {
   "cell_type": "code",
   "execution_count": 27,
   "id": "600986e2-aadc-4160-9ad0-27fd6eb15991",
   "metadata": {},
   "outputs": [],
   "source": [
    "class Model(BaseModel):\n",
    "    numbers: list[int] = []\n",
    "\n",
    "m1 = Model()\n",
    "m2 = Model()"
   ]
  },
  {
   "cell_type": "code",
   "execution_count": 29,
   "id": "6a8772ad-c5f3-4881-93b1-baa00bb8c055",
   "metadata": {},
   "outputs": [
    {
     "data": {
      "text/plain": [
       "Model(numbers=[1, 2, 3])"
      ]
     },
     "execution_count": 29,
     "metadata": {},
     "output_type": "execute_result"
    }
   ],
   "source": [
    "m1.numbers.extend([1,2,3])\n",
    "m1"
   ]
  },
  {
   "cell_type": "code",
   "execution_count": 30,
   "id": "d3c52036-6d88-43f9-84e4-d36461dac201",
   "metadata": {},
   "outputs": [
    {
     "data": {
      "text/plain": [
       "Model(numbers=[])"
      ]
     },
     "execution_count": 30,
     "metadata": {},
     "output_type": "execute_result"
    }
   ],
   "source": [
    "m2"
   ]
  },
  {
   "cell_type": "markdown",
   "id": "a8285448-fb82-41b9-93da-f3aab6666c4d",
   "metadata": {},
   "source": [
    "#### Default Factory"
   ]
  },
  {
   "cell_type": "code",
   "execution_count": 31,
   "id": "17c55f3c-6aef-402a-bf98-1ed7aeb77c9e",
   "metadata": {},
   "outputs": [],
   "source": [
    "from datetime import datetime, timezone"
   ]
  },
  {
   "cell_type": "code",
   "execution_count": 34,
   "id": "73204aaa-94a1-401c-9c1f-f16619662860",
   "metadata": {},
   "outputs": [],
   "source": [
    "class Log(BaseModel):\n",
    "    dt : datetime = Field(default_factory=lambda : datetime.now(timezone.utc))\n",
    "    msg : str"
   ]
  },
  {
   "cell_type": "code",
   "execution_count": 38,
   "id": "5a098734-6e60-493c-94c2-2179de2cad34",
   "metadata": {},
   "outputs": [],
   "source": [
    "log1 = Log(msg='Hi')\n",
    "log2 = Log(msg='Hi')\n",
    "log3 = Log(msg='Hi')"
   ]
  },
  {
   "cell_type": "code",
   "execution_count": 39,
   "id": "bf231dd8-959a-4379-a559-0f22c4bf529d",
   "metadata": {},
   "outputs": [
    {
     "data": {
      "text/plain": [
       "(datetime.datetime(2024, 12, 22, 6, 21, 5, 199942, tzinfo=datetime.timezone.utc),\n",
       " datetime.datetime(2024, 12, 22, 6, 21, 5, 200001, tzinfo=datetime.timezone.utc),\n",
       " datetime.datetime(2024, 12, 22, 6, 21, 5, 200039, tzinfo=datetime.timezone.utc))"
      ]
     },
     "execution_count": 39,
     "metadata": {},
     "output_type": "execute_result"
    }
   ],
   "source": [
    "log1.dt, log2.dt, log3.dt"
   ]
  },
  {
   "cell_type": "markdown",
   "id": "afdc4642-b9d7-4b63-8cdc-081516d09bc7",
   "metadata": {},
   "source": [
    "#### Custom Serializers"
   ]
  },
  {
   "cell_type": "code",
   "execution_count": 40,
   "id": "98449e6a-66ea-4fb2-9447-a6fb5511e64b",
   "metadata": {},
   "outputs": [],
   "source": [
    "class Model(BaseModel):\n",
    "    dt: datetime"
   ]
  },
  {
   "cell_type": "code",
   "execution_count": 41,
   "id": "dbb8f227-2edf-4825-b834-b15ccc96e8f0",
   "metadata": {},
   "outputs": [
    {
     "data": {
      "text/plain": [
       "Model(dt=datetime.datetime(2024, 12, 22, 6, 27, 11, 622310, tzinfo=datetime.timezone.utc))"
      ]
     },
     "execution_count": 41,
     "metadata": {},
     "output_type": "execute_result"
    }
   ],
   "source": [
    "m = Model(dt = datetime.now(timezone.utc))\n",
    "m"
   ]
  },
  {
   "cell_type": "code",
   "execution_count": 42,
   "id": "93227c62-a821-4173-8590-c5d3de47e4b3",
   "metadata": {},
   "outputs": [
    {
     "data": {
      "text/plain": [
       "{'dt': datetime.datetime(2024, 12, 22, 6, 27, 11, 622310, tzinfo=datetime.timezone.utc)}"
      ]
     },
     "execution_count": 42,
     "metadata": {},
     "output_type": "execute_result"
    }
   ],
   "source": [
    "m.model_dump()"
   ]
  },
  {
   "cell_type": "code",
   "execution_count": 43,
   "id": "ce5749ea-99d8-47eb-a3c6-07bfb792581a",
   "metadata": {},
   "outputs": [
    {
     "data": {
      "text/plain": [
       "'{\"dt\":\"2024-12-22T06:27:11.622310Z\"}'"
      ]
     },
     "execution_count": 43,
     "metadata": {},
     "output_type": "execute_result"
    }
   ],
   "source": [
    "m.model_dump_json()"
   ]
  },
  {
   "cell_type": "code",
   "execution_count": 45,
   "id": "3c1fb7ba-e9c1-4781-bb67-0aca9b5b52bf",
   "metadata": {},
   "outputs": [],
   "source": [
    "from pydantic import field_serializer\n",
    "\n",
    "class Model(BaseModel):\n",
    "    number: float\n",
    "\n",
    "    @field_serializer('number')\n",
    "    def serialize_float(self, value):\n",
    "        return round(value,2)"
   ]
  },
  {
   "cell_type": "code",
   "execution_count": 46,
   "id": "dbc22f87-3c59-47ce-8b13-171656a648e2",
   "metadata": {},
   "outputs": [
    {
     "data": {
      "text/plain": [
       "{'number': 0.33}"
      ]
     },
     "execution_count": 46,
     "metadata": {},
     "output_type": "execute_result"
    }
   ],
   "source": [
    "m = Model(number=1/3)\n",
    "m.model_dump()"
   ]
  },
  {
   "cell_type": "code",
   "execution_count": 47,
   "id": "59fc6de1-fe21-49d3-8f57-0089bed366b0",
   "metadata": {},
   "outputs": [
    {
     "data": {
      "text/plain": [
       "'{\"number\":0.33}'"
      ]
     },
     "execution_count": 47,
     "metadata": {},
     "output_type": "execute_result"
    }
   ],
   "source": [
    "m.model_dump_json()"
   ]
  },
  {
   "cell_type": "code",
   "execution_count": 49,
   "id": "4ba83889-1548-46a9-bf98-fa42a7ae5a35",
   "metadata": {},
   "outputs": [],
   "source": [
    "class Model(BaseModel):\n",
    "    number: float\n",
    "    dt: datetime = Field(default_factory=lambda: datetime.now(timezone.utc))\n",
    "\n",
    "    @field_serializer('number')\n",
    "    def serialize_float(self,value):\n",
    "        return round(value,2)\n",
    "\n",
    "    @field_serializer('dt', when_used='json-unless-none')\n",
    "    def serialize_dt_to_json(self, value):\n",
    "        return value.strftime(\"%Y/%-m/%-d %I:%M %p\")"
   ]
  },
  {
   "cell_type": "code",
   "execution_count": 55,
   "id": "73dd1274-a06a-43ab-b667-72f73a763570",
   "metadata": {},
   "outputs": [
    {
     "data": {
      "text/plain": [
       "Model(number=0.3333333333333333, dt=datetime.datetime(2024, 12, 22, 6, 38, 41, 496509, tzinfo=datetime.timezone.utc))"
      ]
     },
     "execution_count": 55,
     "metadata": {},
     "output_type": "execute_result"
    }
   ],
   "source": [
    "m = Model(number=1/3)\n",
    "m"
   ]
  },
  {
   "cell_type": "code",
   "execution_count": 57,
   "id": "865faa57-bc45-471e-b5c5-8c5c9bf019c4",
   "metadata": {},
   "outputs": [
    {
     "data": {
      "text/plain": [
       "{'number': 0.33,\n",
       " 'dt': datetime.datetime(2024, 12, 22, 6, 38, 41, 496509, tzinfo=datetime.timezone.utc)}"
      ]
     },
     "execution_count": 57,
     "metadata": {},
     "output_type": "execute_result"
    }
   ],
   "source": [
    "m.model_dump()"
   ]
  },
  {
   "cell_type": "code",
   "execution_count": 56,
   "id": "3ea82383-763b-43a8-ac63-2d20a9b100de",
   "metadata": {},
   "outputs": [
    {
     "data": {
      "text/plain": [
       "'{\"number\":0.33,\"dt\":\"2024/12/22 06:38 AM\"}'"
      ]
     },
     "execution_count": 56,
     "metadata": {},
     "output_type": "execute_result"
    }
   ],
   "source": [
    "m.model_dump_json()"
   ]
  },
  {
   "cell_type": "code",
   "execution_count": null,
   "id": "3aacdfa8-3a8e-4afc-be7f-7204ffbb6be6",
   "metadata": {},
   "outputs": [],
   "source": []
  }
 ],
 "metadata": {
  "kernelspec": {
   "display_name": "Python 3 (ipykernel)",
   "language": "python",
   "name": "python3"
  },
  "language_info": {
   "codemirror_mode": {
    "name": "ipython",
    "version": 3
   },
   "file_extension": ".py",
   "mimetype": "text/x-python",
   "name": "python",
   "nbconvert_exporter": "python",
   "pygments_lexer": "ipython3",
   "version": "3.10.12"
  }
 },
 "nbformat": 4,
 "nbformat_minor": 5
}
