{
 "cells": [
  {
   "cell_type": "markdown",
   "id": "636c8de1-c268-48f5-bc7b-5c2d4aff217d",
   "metadata": {},
   "source": [
    "A context manager is a construct in Python that helps **`manage resources efficiently`**, **`ensuring proper allocation`** and **`release`**. \n",
    "It is commonly used with the **`with`** statement to handle tasks like *file handling, database connections, and resource management.*"
   ]
  },
  {
   "cell_type": "markdown",
   "id": "835a8913-ff82-4fa8-9cfc-13ba596eeb16",
   "metadata": {},
   "source": [
    "#### Functions of a Context Manager\n",
    "- Resource Management – Automatically allocates and releases resources (e.g., file handling, database connections).\n",
    "- Ensures Cleanup – Guarantees cleanup actions, even if an exception occurs.\n",
    "- Simplifies Code – Reduces the need for explicit try-finally blocks.\n",
    "- Improves Readability – Provides a clear structure for resource handling."
   ]
  },
  {
   "cell_type": "markdown",
   "id": "3ea6bfe8-dbbb-485c-a748-5456da83b473",
   "metadata": {},
   "source": [
    "Reading a file with context manager - `with`"
   ]
  },
  {
   "cell_type": "code",
   "execution_count": 1,
   "id": "01a37e76-2eae-4bad-9479-b54c687baec5",
   "metadata": {},
   "outputs": [
    {
     "name": "stdout",
     "output_type": "stream",
     "text": [
      "A\n",
      "B\n",
      "C\n",
      "D\n",
      "This is a sentence.\n"
     ]
    }
   ],
   "source": [
    "with open('example.txt', 'r') as file:\n",
    "    text_blob = file.read()\n",
    "    print(text_blob)"
   ]
  },
  {
   "cell_type": "markdown",
   "id": "e4700886-5448-472b-9c5c-8ee73f44725c",
   "metadata": {},
   "source": [
    "Context Manager can help manage external connection like Databases, ensuring they close properly"
   ]
  },
  {
   "cell_type": "code",
   "execution_count": 7,
   "id": "7785b2f2-7090-445e-8d38-7bea841522c8",
   "metadata": {},
   "outputs": [
    {
     "name": "stdout",
     "output_type": "stream",
     "text": [
      "[(1, 'Rohit'), (1, 'Rohit'), (1, 'Rohit'), (1, 'Rohit')]\n"
     ]
    }
   ],
   "source": [
    "import sqlite3\n",
    "\n",
    "with sqlite3.connect('example.db') as conn:\n",
    "    cursor = conn.cursor()\n",
    "    cursor.execute(\"CREATE TABLE IF NOT EXISTS users (id INTEGER, name TEXT)\")\n",
    "    cursor.execute(\"INSERT INTO users (id, name) VALUES (1, 'Rohit')\")\n",
    "    conn.commit()\n",
    "    cursor.execute(\"SELECT * FROM users;\")\n",
    "    print(cursor.fetchall())"
   ]
  },
  {
   "cell_type": "markdown",
   "id": "058c1f2b-373c-4d8f-9b0f-896bb9cd0ce4",
   "metadata": {},
   "source": [
    "You can create your own context manager using gernerator with `@contextmanager` from `contextlib` library"
   ]
  },
  {
   "cell_type": "code",
   "execution_count": 16,
   "id": "5c614204-09ea-4dee-9c52-fe81947e4dcd",
   "metadata": {},
   "outputs": [
    {
     "name": "stdout",
     "output_type": "stream",
     "text": [
      "Sum Computed 49999995000000\n",
      "Elapsed time : 0.11 seconds\n"
     ]
    }
   ],
   "source": [
    "import time\n",
    "from contextlib import contextmanager\n",
    "\n",
    "@contextmanager\n",
    "def timer():\n",
    "    start = time.time()\n",
    "    yield\n",
    "    end = time.time()\n",
    "    print(f\"Elapsed time : {end - start:.2f} seconds\")\n",
    "\n",
    "with timer():\n",
    "    total = sum(range(1_00_00_000))\n",
    "    print(f\"Sum Computed {total}\")"
   ]
  },
  {
   "cell_type": "markdown",
   "id": "d611bf9a-2360-46d4-811f-a43534c0df89",
   "metadata": {},
   "source": [
    "For more complex scenarios, implement the `__enter__` and `__exit__` method directly in class"
   ]
  },
  {
   "cell_type": "code",
   "execution_count": 17,
   "id": "62c644a4-2b74-4ec3-a342-b855fb798898",
   "metadata": {},
   "outputs": [
    {
     "name": "stdout",
     "output_type": "stream",
     "text": [
      "Resource Acquired.\n",
      "Using the Resource.\n",
      "Resource Released.\n"
     ]
    }
   ],
   "source": [
    "class CustomResource:\n",
    "    def __enter__(self):\n",
    "        print(\"Resource Acquired.\")\n",
    "        return self\n",
    "\n",
    "    def __exit__(self, exc_type, exc_value, traceback):\n",
    "        print(\"Resource Released.\")\n",
    "\n",
    "with CustomResource() as resource:\n",
    "    print(\"Using the Resource.\")"
   ]
  }
 ],
 "metadata": {
  "kernelspec": {
   "display_name": "Python 3 (ipykernel)",
   "language": "python",
   "name": "python3"
  },
  "language_info": {
   "codemirror_mode": {
    "name": "ipython",
    "version": 3
   },
   "file_extension": ".py",
   "mimetype": "text/x-python",
   "name": "python",
   "nbconvert_exporter": "python",
   "pygments_lexer": "ipython3",
   "version": "3.12.3"
  }
 },
 "nbformat": 4,
 "nbformat_minor": 5
}
