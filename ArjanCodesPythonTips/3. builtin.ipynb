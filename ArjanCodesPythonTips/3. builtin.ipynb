{
 "cells": [
  {
   "cell_type": "markdown",
   "id": "e22bd68b-701f-4a9b-8b73-75ea2923bcca",
   "metadata": {},
   "source": [
    "You can use `enumerate` to loop through a iterable while keeping track of index "
   ]
  },
  {
   "cell_type": "code",
   "execution_count": 2,
   "id": "d5554e3f-d55e-46f9-8fc7-8a79053779ac",
   "metadata": {},
   "outputs": [
    {
     "name": "stdout",
     "output_type": "stream",
     "text": [
      "0 : apple\n",
      "1 : banana\n",
      "2 : guava\n",
      "3 : cherry\n"
     ]
    }
   ],
   "source": [
    "items = ['apple', 'banana', 'guava', 'cherry']\n",
    "for index, item  in enumerate(items):\n",
    "    print(f\"{index} : {item}\")"
   ]
  },
  {
   "cell_type": "markdown",
   "id": "ff4bead9-dfbf-4cb5-87ce-fa86386bc6d5",
   "metadata": {},
   "source": [
    "There is `zip` to combine 2 or more iterable element-wise, creating tuples"
   ]
  },
  {
   "cell_type": "code",
   "execution_count": 7,
   "id": "cb288176-b64e-4e5c-98b1-bebbfa05d1a4",
   "metadata": {},
   "outputs": [
    {
     "name": "stdout",
     "output_type": "stream",
     "text": [
      "Alice -> 100\n",
      "Bob -> 99\n",
      "Charlie -> 100\n"
     ]
    }
   ],
   "source": [
    "names = ['Alice', 'Bob', 'Charlie']\n",
    "scores = [100, 99, 100]\n",
    "for name, score in zip(names,scores):\n",
    "    print(f\"{name} -> {score}\")"
   ]
  },
  {
   "cell_type": "markdown",
   "id": "b178a53b-ffdb-4ce4-a297-ec517211070a",
   "metadata": {},
   "source": [
    "`any` and `all` can be quite useful"
   ]
  },
  {
   "cell_type": "code",
   "execution_count": 20,
   "id": "7350175f-1380-4e8b-bf65-6665304d7a84",
   "metadata": {},
   "outputs": [
    {
     "name": "stdout",
     "output_type": "stream",
     "text": [
      "True\n",
      "False\n"
     ]
    }
   ],
   "source": [
    "numbers = [1,0,10,1]\n",
    "# Truthy - 1,2,3, 'Rohit'\n",
    "# Falsy Values - Null, None, 0\n",
    "print(any(numbers)) # Output: True (At least one of the numbers is Non Zero)\n",
    "print(all(numbers)) # Output: False (Non all the numbers are Non Zero)"
   ]
  },
  {
   "cell_type": "markdown",
   "id": "51150740-46ac-4034-bef5-78a37399dda2",
   "metadata": {},
   "source": [
    "`map` transforms an iterable by applying a function"
   ]
  },
  {
   "cell_type": "code",
   "execution_count": 11,
   "id": "5e346c5a-f847-41a0-805e-13d955b2ac03",
   "metadata": {},
   "outputs": [
    {
     "name": "stdout",
     "output_type": "stream",
     "text": [
      "[1, 4, 9, 16]\n"
     ]
    }
   ],
   "source": [
    "numbers = [1,2,3,4]\n",
    "# Squaring the numbers by using map function\n",
    "squares = map(lambda x : x**2, numbers)\n",
    "print(list(squares))"
   ]
  },
  {
   "cell_type": "markdown",
   "id": "c8bcb0e7-6195-4306-9dd9-9808cce7dd24",
   "metadata": {},
   "source": [
    "Use `filter` to select the elemet based on the condition"
   ]
  },
  {
   "cell_type": "code",
   "execution_count": 12,
   "id": "b5c667ab-009c-4214-93ac-15cce3d89739",
   "metadata": {},
   "outputs": [
    {
     "name": "stdout",
     "output_type": "stream",
     "text": [
      "[2, 4]\n"
     ]
    }
   ],
   "source": [
    "numbers = [1,2,3,4,5]\n",
    "# Extracting the even numbers using filter\n",
    "evens = filter(lambda x : x%2==0, numbers)\n",
    "print(list(evens))"
   ]
  },
  {
   "cell_type": "markdown",
   "id": "38f4b871-bd8d-4375-98ea-c1db6997ab48",
   "metadata": {},
   "source": [
    "Use `reversed` to reverse the iterable without modifying it"
   ]
  },
  {
   "cell_type": "code",
   "execution_count": 15,
   "id": "f32fba49-4250-426a-8afb-64ec235aab2b",
   "metadata": {},
   "outputs": [
    {
     "name": "stdout",
     "output_type": "stream",
     "text": [
      "grape\n",
      "banana\n",
      "apple\n",
      "['apple', 'banana', 'grape']\n"
     ]
    }
   ],
   "source": [
    "items = ['apple', 'banana', 'grape']\n",
    "for item in reversed(items):\n",
    "    print(item)\n",
    "print(items) # Original Order is not changed"
   ]
  },
  {
   "cell_type": "markdown",
   "id": "fee02f95-e658-473c-bda9-e82d72f08dff",
   "metadata": {},
   "source": [
    "Do you know `min` and `max` works with custom key"
   ]
  },
  {
   "cell_type": "code",
   "execution_count": 19,
   "id": "5cb7faf7-18b9-4651-a74f-51293f0c7d17",
   "metadata": {},
   "outputs": [
    {
     "name": "stdout",
     "output_type": "stream",
     "text": [
      "The longest word in the list is banana with length : 6 characters\n"
     ]
    }
   ],
   "source": [
    "items = ['apple', 'banana', 'grape']\n",
    "longest_word = max(items, key=lambda x : len(x))\n",
    "# Another way --> Key required a function\n",
    "# longest_word = max(items, key=len)\n",
    "print(f\"The longest word in the list is {longest_word} with length : {len(longest_word)} characters\")"
   ]
  },
  {
   "cell_type": "code",
   "execution_count": null,
   "id": "fa3d15ae-03b5-42d8-b435-914ee77dbc66",
   "metadata": {},
   "outputs": [],
   "source": []
  }
 ],
 "metadata": {
  "kernelspec": {
   "display_name": "Python 3 (ipykernel)",
   "language": "python",
   "name": "python3"
  },
  "language_info": {
   "codemirror_mode": {
    "name": "ipython",
    "version": 3
   },
   "file_extension": ".py",
   "mimetype": "text/x-python",
   "name": "python",
   "nbconvert_exporter": "python",
   "pygments_lexer": "ipython3",
   "version": "3.12.3"
  }
 },
 "nbformat": 4,
 "nbformat_minor": 5
}
