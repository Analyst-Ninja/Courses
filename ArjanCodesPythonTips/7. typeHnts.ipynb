{
 "cells": [
  {
   "cell_type": "markdown",
   "id": "fce6c990-cec9-461f-b948-2e90ad5c1608",
   "metadata": {},
   "source": [
    "Type hints help others and (future you) understand your code better"
   ]
  },
  {
   "cell_type": "code",
   "execution_count": 2,
   "id": "786a9960-b019-47f0-9ec0-e8958e884e53",
   "metadata": {},
   "outputs": [
    {
     "name": "stdout",
     "output_type": "stream",
     "text": [
      "12.75\n"
     ]
    }
   ],
   "source": [
    "def average(numbers : list[int]) -> float:\n",
    "    return sum(numbers) / len(numbers)\n",
    "\n",
    "print(average([1,2,3,45]))"
   ]
  },
  {
   "cell_type": "markdown",
   "id": "dd601a22-9630-4b2e-b806-e59ebc35e21f",
   "metadata": {},
   "source": [
    "Type hints also help you write code that is more generic"
   ]
  },
  {
   "cell_type": "code",
   "execution_count": 5,
   "id": "b993b912-5264-4879-801c-a225a5ee6e92",
   "metadata": {},
   "outputs": [
    {
     "name": "stdout",
     "output_type": "stream",
     "text": [
      "12.75\n"
     ]
    }
   ],
   "source": [
    "from typing import Iterable\n",
    "\n",
    "def average(numbers : Iterable[int]) -> float:\n",
    "    return sum(numbers) / len(numbers)\n",
    "\n",
    "print(average({1,2,3,45}))"
   ]
  }
 ],
 "metadata": {
  "kernelspec": {
   "display_name": "Python 3 (ipykernel)",
   "language": "python",
   "name": "python3"
  },
  "language_info": {
   "codemirror_mode": {
    "name": "ipython",
    "version": 3
   },
   "file_extension": ".py",
   "mimetype": "text/x-python",
   "name": "python",
   "nbconvert_exporter": "python",
   "pygments_lexer": "ipython3",
   "version": "3.12.3"
  }
 },
 "nbformat": 4,
 "nbformat_minor": 5
}
