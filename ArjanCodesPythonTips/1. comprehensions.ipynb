{
 "cells": [
  {
   "cell_type": "markdown",
   "id": "a0df4cda-50fe-471a-ae6b-4867702adc57",
   "metadata": {},
   "source": [
    "Generating squares of even numbers | --list-comprehension"
   ]
  },
  {
   "cell_type": "code",
   "execution_count": 1,
   "id": "8baf0a8b-a1f7-417b-8aa4-d213e252c51e",
   "metadata": {},
   "outputs": [
    {
     "data": {
      "text/plain": [
       "[0, 4, 16, 36, 64]"
      ]
     },
     "execution_count": 1,
     "metadata": {},
     "output_type": "execute_result"
    }
   ],
   "source": [
    "squares = [x**2 for x in range(10) if x % 2 == 0]\n",
    "squares"
   ]
  },
  {
   "cell_type": "markdown",
   "id": "93a70815-e2fb-4dc5-a3a3-ed8074a5f7d5",
   "metadata": {},
   "source": [
    "Mapping Numbers to their cubes | --dictionary-comprehension"
   ]
  },
  {
   "cell_type": "code",
   "execution_count": 2,
   "id": "350605ea-a4b3-4fcf-b176-9503ed4784ed",
   "metadata": {},
   "outputs": [
    {
     "data": {
      "text/plain": [
       "{0: 0, 1: 1, 2: 8, 3: 27, 4: 64}"
      ]
     },
     "execution_count": 2,
     "metadata": {},
     "output_type": "execute_result"
    }
   ],
   "source": [
    "cubes = {x : x**3 for x in range(5)}\n",
    "cubes"
   ]
  },
  {
   "cell_type": "markdown",
   "id": "59996869-d5b2-411b-8c48-7d7a12df632a",
   "metadata": {},
   "source": [
    "Unique Length of the words | --set-comprehension"
   ]
  },
  {
   "cell_type": "code",
   "execution_count": 3,
   "id": "82d4f3bb-4cce-4e8d-bd0e-1fff55605d84",
   "metadata": {},
   "outputs": [
    {
     "data": {
      "text/plain": [
       "{4, 5, 14}"
      ]
     },
     "execution_count": 3,
     "metadata": {},
     "output_type": "execute_result"
    }
   ],
   "source": [
    "words = ['hello', 'Rohit', 'Ajay', 'Czech Republic']\n",
    "unique_length = {len(word) for word in words}\n",
    "unique_length"
   ]
  },
  {
   "cell_type": "markdown",
   "id": "f46106c9-322b-4bcf-8310-62145c86bac3",
   "metadata": {},
   "source": [
    "Generator Comprehension - Same as list comprehension but uses `()` to define\n",
    "\n",
    "Generator - Generators in Python are functions that produce a sequence of values `one at a time` using the `yield` keyword, instead of returning them all at once. They are `memory-efficient` and ideal for large data processing."
   ]
  },
  {
   "cell_type": "code",
   "execution_count": 7,
   "id": "dd506c6a-1364-4698-bbbd-63f324cfa6d0",
   "metadata": {},
   "outputs": [
    {
     "name": "stdout",
     "output_type": "stream",
     "text": [
      "0 1 4 9 16 "
     ]
    }
   ],
   "source": [
    "squares_generator = (x**2 for x in range(5))\n",
    "for num in squares_generator:\n",
    "    print(num, end=\" \")"
   ]
  },
  {
   "cell_type": "markdown",
   "id": "14e37871-1d5e-404c-90dc-4e54d2f27485",
   "metadata": {},
   "source": [
    "Nested Comprehension - Used for processing the multi-dimensional data  "
   ]
  },
  {
   "cell_type": "code",
   "execution_count": 24,
   "id": "1672ce33-85c9-4dba-bfad-0f2fe2d0f9a4",
   "metadata": {},
   "outputs": [
    {
     "data": {
      "text/plain": [
       "[1, 2, 3, 4]"
      ]
     },
     "execution_count": 24,
     "metadata": {},
     "output_type": "execute_result"
    }
   ],
   "source": [
    "# Flattening a 2D matrix\n",
    "matrix = [[1,2],\n",
    "          [3,4]]\n",
    "flatten_array = [num for row in matrix for num in row]\n",
    "flatten_array"
   ]
  },
  {
   "cell_type": "markdown",
   "id": "a88b41c6-00eb-467b-87d9-90d4230baee2",
   "metadata": {},
   "source": [
    "Transposing the matrix using for nested loop and list comprehension"
   ]
  },
  {
   "cell_type": "code",
   "execution_count": 30,
   "id": "a872210e-4593-4171-9718-7397b5d7d716",
   "metadata": {},
   "outputs": [
    {
     "data": {
      "text/plain": [
       "[[1, 3], [2, 4]]"
      ]
     },
     "execution_count": 30,
     "metadata": {},
     "output_type": "execute_result"
    }
   ],
   "source": [
    "transposed_matrix = []\n",
    "for i in range(2):\n",
    "    row = []\n",
    "    for j in range(2):\n",
    "        row.append(matrix[j][i])\n",
    "    transposed_matrix.append(row)\n",
    "transposed_matrix"
   ]
  },
  {
   "cell_type": "code",
   "execution_count": 31,
   "id": "50332f06-9b42-4f7d-b0c0-64bd15a991f0",
   "metadata": {},
   "outputs": [
    {
     "data": {
      "text/plain": [
       "[[1, 3], [2, 4]]"
      ]
     },
     "execution_count": 31,
     "metadata": {},
     "output_type": "execute_result"
    }
   ],
   "source": [
    "transposed_matrix = [[matrix[j][i] for j in range(2)] for i in range(2)]\n",
    "transposed_matrix"
   ]
  }
 ],
 "metadata": {
  "kernelspec": {
   "display_name": "Python 3 (ipykernel)",
   "language": "python",
   "name": "python3"
  },
  "language_info": {
   "codemirror_mode": {
    "name": "ipython",
    "version": 3
   },
   "file_extension": ".py",
   "mimetype": "text/x-python",
   "name": "python",
   "nbconvert_exporter": "python",
   "pygments_lexer": "ipython3",
   "version": "3.12.3"
  }
 },
 "nbformat": 4,
 "nbformat_minor": 5
}
