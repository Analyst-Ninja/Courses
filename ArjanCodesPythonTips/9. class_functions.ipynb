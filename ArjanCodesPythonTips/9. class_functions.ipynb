{
 "cells": [
  {
   "cell_type": "markdown",
   "id": "cac892f8-c39b-440f-8a7c-e2e403149ba1",
   "metadata": {},
   "source": [
    "Classs are benificial when data structure has both \n",
    "- State - Data\n",
    "- Behaviour - Methods"
   ]
  },
  {
   "cell_type": "code",
   "execution_count": 1,
   "id": "a8d0f51f-9c7f-425b-b460-334f5ae6cf16",
   "metadata": {},
   "outputs": [
    {
     "data": {
      "text/plain": [
       "3.0"
      ]
     },
     "execution_count": 1,
     "metadata": {},
     "output_type": "execute_result"
    }
   ],
   "source": [
    "from decimal import Decimal\n",
    "\n",
    "class ShoppingCart:\n",
    "    def __init__(self) -> None:\n",
    "        self.items = []\n",
    "\n",
    "    def add_item(self, item : str, price : Decimal) -> None:\n",
    "        self.items.append({\n",
    "            'item' : item,\n",
    "            'price' : price\n",
    "        })\n",
    "\n",
    "    def total(self) -> Decimal:\n",
    "        return sum(item['price'] for item in self.items)\n",
    "\n",
    "cart = ShoppingCart()\n",
    "cart.add_item('Pen', 1.0)\n",
    "cart.add_item('Notebook', 2.0)\n",
    "\n",
    "cart.total()"
   ]
  },
  {
   "cell_type": "markdown",
   "id": "ee9b7d83-7e40-4f43-97d7-14d3f7568d9b",
   "metadata": {},
   "source": [
    "`dataclass` - A dataclass is a lightweight alternative to a class. It is perfect for the scenarios where you need to group related data but don't need much behaviour"
   ]
  },
  {
   "cell_type": "code",
   "execution_count": 6,
   "id": "8e2b6c1c-4f35-4ee5-97b1-54fe78536118",
   "metadata": {},
   "outputs": [
    {
     "name": "stdout",
     "output_type": "stream",
     "text": [
      "Item(name='Notebook', price=2.55)\n",
      "2.55\n"
     ]
    }
   ],
   "source": [
    "from dataclasses import dataclass\n",
    "from decimal import Decimal\n",
    "\n",
    "@dataclass\n",
    "class Item:\n",
    "    name: str\n",
    "    price: Decimal\n",
    "\n",
    "item = Item(name='Notebook', price=2.55)\n",
    "print(item)\n",
    "print(f\"{item.price:.2f}\")"
   ]
  },
  {
   "cell_type": "markdown",
   "id": "5ceae929-48d6-4687-96d3-cc5ccb59b705",
   "metadata": {},
   "source": [
    "Use a **`function`** for `stateless` operations:\n",
    "- tasks that don't require maintaining state over time\n",
    "- can be performed independently"
   ]
  },
  {
   "cell_type": "code",
   "execution_count": 13,
   "id": "ad391e0d-1703-49fa-a274-e794a69b0c0d",
   "metadata": {},
   "outputs": [
    {
     "name": "stdout",
     "output_type": "stream",
     "text": [
      "Price after discount: 85.05\n"
     ]
    }
   ],
   "source": [
    "def calculate_discounted_price(price: Decimal, discount: Decimal) -> Decimal:\n",
    "    return price*(1 - (discount / 100))\n",
    "\n",
    "discounted_price = calculate_discounted_price(105, 19)\n",
    "print(f\"Price after discount: {discounted_price:.2f}\")"
   ]
  }
 ],
 "metadata": {
  "kernelspec": {
   "display_name": "Python 3 (ipykernel)",
   "language": "python",
   "name": "python3"
  },
  "language_info": {
   "codemirror_mode": {
    "name": "ipython",
    "version": 3
   },
   "file_extension": ".py",
   "mimetype": "text/x-python",
   "name": "python",
   "nbconvert_exporter": "python",
   "pygments_lexer": "ipython3",
   "version": "3.12.3"
  }
 },
 "nbformat": 4,
 "nbformat_minor": 5
}
