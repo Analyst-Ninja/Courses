{
 "cells": [
  {
   "cell_type": "markdown",
   "id": "3bce8d90-53b4-4dc5-a599-fb7b74c0a648",
   "metadata": {},
   "source": [
    "Use f-strings to format the numebrs in precision or in human-readable formats"
   ]
  },
  {
   "cell_type": "code",
   "execution_count": 2,
   "id": "5cc98710-4b2f-4186-98f5-b2e4872a8c1e",
   "metadata": {},
   "outputs": [
    {
     "name": "stdout",
     "output_type": "stream",
     "text": [
      "Pi's Value rounded to 2 decimal points - 3.14\n"
     ]
    }
   ],
   "source": [
    "pi = 3.14159\n",
    "print(f\"Pi's Value rounded to 2 decimal points - {pi:.2f}\")"
   ]
  },
  {
   "cell_type": "markdown",
   "id": "8b64c5b8-9fba-4ba1-a912-6b034520eae5",
   "metadata": {},
   "source": [
    "Add thousand seperator"
   ]
  },
  {
   "cell_type": "code",
   "execution_count": 8,
   "id": "f22728f5-2cc4-4aef-b23c-48f58ad02d5a",
   "metadata": {},
   "outputs": [
    {
     "name": "stdout",
     "output_type": "stream",
     "text": [
      "number with commas - 123,456,789\n"
     ]
    }
   ],
   "source": [
    "num = 123456789\n",
    "print(f'number with commas - {num:,}')"
   ]
  },
  {
   "cell_type": "markdown",
   "id": "0a3bd83c-65a7-48a1-a4c7-113acdcfebfb",
   "metadata": {},
   "source": [
    "Displays %"
   ]
  },
  {
   "cell_type": "code",
   "execution_count": 16,
   "id": "cf2557b4-1614-430e-90e6-2da416bd9392",
   "metadata": {},
   "outputs": [
    {
     "name": "stdout",
     "output_type": "stream",
     "text": [
      "In percentage with precision 2 - 84.57%\n"
     ]
    }
   ],
   "source": [
    "ratio = 0.84567\n",
    "print(f'In percentage with precision 2 - {ratio:.2%}')"
   ]
  },
  {
   "cell_type": "markdown",
   "id": "586c309a-4fb5-4114-8a7c-bfd53c492f7e",
   "metadata": {},
   "source": [
    "use of f-string with datetime object"
   ]
  },
  {
   "cell_type": "code",
   "execution_count": 22,
   "id": "6438afc4-d04e-449c-9fe2-7d7ca443d7b2",
   "metadata": {},
   "outputs": [
    {
     "name": "stdout",
     "output_type": "stream",
     "text": [
      "Current Date - 2025-01-25\n",
      "Current Time - 18:54:38\n"
     ]
    }
   ],
   "source": [
    "from datetime import datetime\n",
    "now = datetime.now()\n",
    "print(f\"Current Date - {now:%Y-%m-%d}\")\n",
    "print(f\"Current Time - {now:%H:%M:%S}\")"
   ]
  },
  {
   "cell_type": "markdown",
   "id": "d70af2ab-2ff1-4d73-ac13-dc48d80cae76",
   "metadata": {},
   "source": [
    "Align text for neatly fomatted output "
   ]
  },
  {
   "cell_type": "code",
   "execution_count": 3,
   "id": "1be5cb52-1a07-42d7-8194-99aae1fcf201",
   "metadata": {},
   "outputs": [
    {
     "name": "stdout",
     "output_type": "stream",
     "text": [
      "Python               is left-aligned\n",
      "              Python is right-aligned\n",
      "       Python        is centered-aligned\n"
     ]
    }
   ],
   "source": [
    "name = 'Python'\n",
    "print(f\"{name:<20} is left-aligned\")\n",
    "print(f\"{name:>20} is right-aligned\")\n",
    "print(f\"{name:^20} is centered-aligned\")"
   ]
  },
  {
   "cell_type": "markdown",
   "id": "6eea64ea-dc44-47a0-a1f7-3e63ee317de1",
   "metadata": {},
   "source": [
    "f-string support a debugging syntax that support both expression and result"
   ]
  },
  {
   "cell_type": "code",
   "execution_count": 7,
   "id": "be88a19b-b963-41bb-b032-20a0bd5ba2bc",
   "metadata": {},
   "outputs": [
    {
     "name": "stdout",
     "output_type": "stream",
     "text": [
      "value=42\n",
      "value=42.00\n"
     ]
    }
   ],
   "source": [
    "value=42\n",
    "print(f\"{value=}\")\n",
    "print(f\"{value=:.2f}\")"
   ]
  }
 ],
 "metadata": {
  "kernelspec": {
   "display_name": "Python 3 (ipykernel)",
   "language": "python",
   "name": "python3"
  },
  "language_info": {
   "codemirror_mode": {
    "name": "ipython",
    "version": 3
   },
   "file_extension": ".py",
   "mimetype": "text/x-python",
   "name": "python",
   "nbconvert_exporter": "python",
   "pygments_lexer": "ipython3",
   "version": "3.12.3"
  }
 },
 "nbformat": 4,
 "nbformat_minor": 5
}
