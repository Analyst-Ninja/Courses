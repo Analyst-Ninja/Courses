{
 "cells": [
  {
   "cell_type": "markdown",
   "id": "a587d7d5-8c60-4f25-95f1-c22e752373b7",
   "metadata": {},
   "source": [
    "Abstraction using `ABC` - *Abstract based classes*"
   ]
  },
  {
   "cell_type": "code",
   "execution_count": 2,
   "id": "6b144160-f282-4972-a1b3-f06f42042791",
   "metadata": {},
   "outputs": [
    {
     "name": "stdout",
     "output_type": "stream",
     "text": [
      "Processing $200.0 through PayPal\n",
      "Processing $1000.0 through UPI\n",
      "Processing $109.0 through Stripe\n"
     ]
    }
   ],
   "source": [
    "from abc import ABC, abstractmethod\n",
    "\n",
    "class PaymentProcessor:\n",
    "    @abstractmethod\n",
    "    def process_payment(self, amount : float) -> None:\n",
    "        pass\n",
    "\n",
    "class PayPalProcessor(PaymentProcessor):\n",
    "    def process_payment(self, amount : float) -> None:\n",
    "        print(f\"Processing ${amount} through PayPal\")\n",
    "\n",
    "class UPIProcessor(PaymentProcessor):\n",
    "    def process_payment(self, amount : float) -> None:\n",
    "        print(f\"Processing ${amount} through UPI\")\n",
    "\n",
    "class StripeProcessor(PaymentProcessor):\n",
    "    def process_payment(self, amount : float) -> None:\n",
    "        print(f\"Processing ${amount} through Stripe\")\n",
    "\n",
    "def process_order(amount : float, processor : PaymentProcessor) -> None:\n",
    "    processor.process_payment(amount=amount)\n",
    "\n",
    "paypal = PayPalProcessor()\n",
    "upi = UPIProcessor()\n",
    "stripe = StripeProcessor()\n",
    "\n",
    "process_order(200.0, paypal)\n",
    "process_order(1000.0, upi)\n",
    "process_order(109.0, stripe)"
   ]
  },
  {
   "cell_type": "markdown",
   "id": "e95a90fb-a217-4d31-816b-e973072193c4",
   "metadata": {},
   "source": [
    "Abstracting a logger using `Protocol`"
   ]
  },
  {
   "cell_type": "code",
   "execution_count": 4,
   "id": "fa78e690-e0f0-4355-a726-b4fd9b6f06cf",
   "metadata": {},
   "outputs": [
    {
     "name": "stdout",
     "output_type": "stream",
     "text": [
      "LOG : Task Started\n",
      "LOG : Task Ended\n"
     ]
    }
   ],
   "source": [
    "from typing import Protocol\n",
    "\n",
    "class Logger(Protocol):\n",
    "    def log(self, message : str) -> None:\n",
    "        pass\n",
    "\n",
    "class ConsoleLogger:\n",
    "    def log(self, message : str) -> None:\n",
    "        print(f\"LOG : {message}\")\n",
    "\n",
    "class FileLogger:\n",
    "    def log(self, message : str) -> None:\n",
    "        with open('file.log', 'a') as file:\n",
    "            file.write(f\"{message}\\n\")\n",
    "\n",
    "def perform_task(logger : Logger) -> None:\n",
    "    logger.log(\"Task Started\")\n",
    "    # simulate a task\n",
    "    logger.log(\"Task Ended\")\n",
    "\n",
    "console_logger = ConsoleLogger()\n",
    "file_logger = FileLogger()\n",
    "\n",
    "perform_task(console_logger)\n",
    "perform_task(file_logger) "
   ]
  },
  {
   "cell_type": "code",
   "execution_count": null,
   "id": "3e867f38-7713-4229-8ce2-59613c743d10",
   "metadata": {},
   "outputs": [],
   "source": []
  }
 ],
 "metadata": {
  "kernelspec": {
   "display_name": "Python 3 (ipykernel)",
   "language": "python",
   "name": "python3"
  },
  "language_info": {
   "codemirror_mode": {
    "name": "ipython",
    "version": 3
   },
   "file_extension": ".py",
   "mimetype": "text/x-python",
   "name": "python",
   "nbconvert_exporter": "python",
   "pygments_lexer": "ipython3",
   "version": "3.12.3"
  }
 },
 "nbformat": 4,
 "nbformat_minor": 5
}
