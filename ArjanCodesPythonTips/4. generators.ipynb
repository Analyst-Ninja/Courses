{
 "cells": [
  {
   "cell_type": "markdown",
   "id": "3fca5438-987e-45cb-8c0f-f835007cef32",
   "metadata": {},
   "source": [
    "Generator compute the value **`lazily`**, meaning they only produce the result when explicitly requested"
   ]
  },
  {
   "cell_type": "code",
   "execution_count": 2,
   "id": "10ea8080-6470-4c60-a9c6-2f17a27333e8",
   "metadata": {},
   "outputs": [
    {
     "name": "stdout",
     "output_type": "stream",
     "text": [
      "0\n",
      "1\n",
      "4\n",
      "9\n",
      "16\n",
      "25\n"
     ]
    }
   ],
   "source": [
    "# Generator function that yields the squares\n",
    "\n",
    "def squared_numbers(limit : int):\n",
    "    for i in range(limit+1):\n",
    "        yield i**2\n",
    "\n",
    "# Use the generator function to compute the squares\n",
    "\n",
    "for square in squared_numbers(5):\n",
    "    print(square)"
   ]
  }
 ],
 "metadata": {
  "kernelspec": {
   "display_name": "Python 3 (ipykernel)",
   "language": "python",
   "name": "python3"
  },
  "language_info": {
   "codemirror_mode": {
    "name": "ipython",
    "version": 3
   },
   "file_extension": ".py",
   "mimetype": "text/x-python",
   "name": "python",
   "nbconvert_exporter": "python",
   "pygments_lexer": "ipython3",
   "version": "3.12.3"
  }
 },
 "nbformat": 4,
 "nbformat_minor": 5
}
