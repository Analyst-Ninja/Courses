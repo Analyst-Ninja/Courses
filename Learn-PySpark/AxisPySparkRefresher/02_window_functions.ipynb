{
 "cells": [
  {
   "cell_type": "code",
   "execution_count": 57,
   "id": "cda5545e-f7f9-475b-8370-a332f5572324",
   "metadata": {},
   "outputs": [],
   "source": [
    "spark.stop()"
   ]
  },
  {
   "cell_type": "code",
   "execution_count": 58,
   "id": "733b15b1-110e-4be0-b97f-486324f66db2",
   "metadata": {},
   "outputs": [],
   "source": [
    "from pyspark.sql import SparkSession \n",
    "from pyspark.sql.window import Window\n",
    "from pyspark.sql.functions import *\n",
    "from pyspark.sql.types import *\n",
    "\n",
    "spark = (\n",
    "    SparkSession.Builder().appName('window_funnctions')\\\n",
    "    .config('spark.sql.session.logLevel','ERROR')\\\n",
    "    .getOrCreate()\n",
    ")\n",
    "\n",
    "spark.sparkContext.setLogLevel('ERROR')"
   ]
  },
  {
   "cell_type": "code",
   "execution_count": 59,
   "id": "13454627-5edd-4437-86bb-3d8d1e6023ed",
   "metadata": {},
   "outputs": [
    {
     "name": "stdout",
     "output_type": "stream",
     "text": [
      "+--------+----------+--------+\n",
      "|category|sale_date |sale_amt|\n",
      "+--------+----------+--------+\n",
      "|1       |2024-01-01|1500.5  |\n",
      "|2       |2024-01-02|2300.75 |\n",
      "|2       |2024-01-03|1800.0  |\n",
      "|1       |2024-01-04|2200.25 |\n",
      "|2       |2024-01-05|1700.8  |\n",
      "|1       |2024-01-06|2100.9  |\n",
      "|2       |2024-01-07|2500.0  |\n",
      "|2       |2024-01-08|1900.6  |\n",
      "|1       |2024-01-09|2400.4  |\n",
      "|2       |2024-01-10|2000.0  |\n",
      "+--------+----------+--------+\n",
      "\n"
     ]
    }
   ],
   "source": [
    "# Sample data in a list of tuples\n",
    "sales_data = [\n",
    "    (1, '2024-01-01', 1500.50),\n",
    "    (2, '2024-01-02', 2300.75),\n",
    "    (2, '2024-01-03', 1800.00),\n",
    "    (1, '2024-01-04', 2200.25),\n",
    "    (2, '2024-01-05', 1700.80),\n",
    "    (1, '2024-01-06', 2100.90),\n",
    "    (2, '2024-01-07', 2500.00),\n",
    "    (2, '2024-01-08', 1900.60),\n",
    "    (1, '2024-01-09', 2400.40),\n",
    "    (2, '2024-01-10', 2000.00)\n",
    "]\n",
    "\n",
    "schema = StructType(\n",
    "    [\n",
    "        StructField('category',IntegerType(),False),\n",
    "        StructField('sale_date',StringType(),False),\n",
    "        StructField('sale_amt',DoubleType(),False),\n",
    "    ]\n",
    ")\n",
    "\n",
    "sales_df = spark.createDataFrame(sales_data, schema)\n",
    "sales_df.show(truncate=False)"
   ]
  },
  {
   "cell_type": "code",
   "execution_count": 60,
   "id": "220aa96c-befe-4d73-b605-fd773f95f021",
   "metadata": {},
   "outputs": [
    {
     "name": "stdout",
     "output_type": "stream",
     "text": [
      "+--------+----------+--------+------------+\n",
      "|category| sale_date|sale_amt|sale_date_v2|\n",
      "+--------+----------+--------+------------+\n",
      "|       1|2024-01-01|  1500.5|  2024-01-01|\n",
      "|       2|2024-01-02| 2300.75|  2024-01-02|\n",
      "|       2|2024-01-03|  1800.0|  2024-01-03|\n",
      "|       1|2024-01-04| 2200.25|  2024-01-04|\n",
      "|       2|2024-01-05|  1700.8|  2024-01-05|\n",
      "|       1|2024-01-06|  2100.9|  2024-01-06|\n",
      "|       2|2024-01-07|  2500.0|  2024-01-07|\n",
      "|       2|2024-01-08|  1900.6|  2024-01-08|\n",
      "|       1|2024-01-09|  2400.4|  2024-01-09|\n",
      "|       2|2024-01-10|  2000.0|  2024-01-10|\n",
      "+--------+----------+--------+------------+\n",
      "\n"
     ]
    }
   ],
   "source": [
    "sales_df = sales_df.withColumn('sale_date_v2', to_date('sale_date', 'yyyy-MM-dd'))\n",
    "sales_df.show()"
   ]
  },
  {
   "cell_type": "code",
   "execution_count": 61,
   "id": "a01d3dd2-d39e-4938-b743-d6dae0a2169a",
   "metadata": {},
   "outputs": [],
   "source": [
    "windowSpec = Window.partitionBy('category').orderBy('sale_date_v2').rowsBetween(-2,0)"
   ]
  },
  {
   "cell_type": "code",
   "execution_count": 62,
   "id": "3cb5c309-15de-4a15-bd3d-d343b8e3f909",
   "metadata": {},
   "outputs": [
    {
     "name": "stdout",
     "output_type": "stream",
     "text": [
      "+--------+----------+--------+------------+-----------------+\n",
      "|category| sale_date|sale_amt|sale_date_v2|      rolling_sum|\n",
      "+--------+----------+--------+------------+-----------------+\n",
      "|       1|2024-01-01|  1500.5|  2024-01-01|           1500.5|\n",
      "|       1|2024-01-04| 2200.25|  2024-01-04|          3700.75|\n",
      "|       1|2024-01-06|  2100.9|  2024-01-06|          5801.65|\n",
      "|       1|2024-01-09|  2400.4|  2024-01-09|6701.549999999999|\n",
      "|       2|2024-01-02| 2300.75|  2024-01-02|          2300.75|\n",
      "|       2|2024-01-03|  1800.0|  2024-01-03|          4100.75|\n",
      "|       2|2024-01-05|  1700.8|  2024-01-05|          5801.55|\n",
      "|       2|2024-01-07|  2500.0|  2024-01-07|           6000.8|\n",
      "|       2|2024-01-08|  1900.6|  2024-01-08|           6101.4|\n",
      "|       2|2024-01-10|  2000.0|  2024-01-10|           6400.6|\n",
      "+--------+----------+--------+------------+-----------------+\n",
      "\n"
     ]
    }
   ],
   "source": [
    "sales_df.withColumn('rolling_sum', sum('sale_amt').over(windowSpec)).show()"
   ]
  },
  {
   "cell_type": "code",
   "execution_count": 45,
   "id": "baca8446-cbf7-4d4b-9e18-5d6eab2acebf",
   "metadata": {},
   "outputs": [],
   "source": [
    "assert sales_df.count() > 0, 'Too Small Dataset'"
   ]
  },
  {
   "cell_type": "code",
   "execution_count": 63,
   "id": "20fbaad8-2163-425e-8cdd-ac06c52167de",
   "metadata": {},
   "outputs": [
    {
     "name": "stdout",
     "output_type": "stream",
     "text": [
      "== Physical Plan ==\n",
      "*(1) Project [category#659, sale_date#660, sale_amt#661, cast(gettimestamp(sale_date#660, yyyy-MM-dd, TimestampType, Some(Asia/Calcutta), false) as date) AS sale_date_v2#678]\n",
      "+- *(1) Scan ExistingRDD[category#659,sale_date#660,sale_amt#661]\n",
      "\n",
      "\n"
     ]
    }
   ],
   "source": [
    "sales_df.explain()"
   ]
  },
  {
   "cell_type": "code",
   "execution_count": null,
   "id": "7354b48a-d08c-4af8-b587-f95e8744c26e",
   "metadata": {},
   "outputs": [],
   "source": []
  }
 ],
 "metadata": {
  "kernelspec": {
   "display_name": "Python 3 (ipykernel)",
   "language": "python",
   "name": "python3"
  },
  "language_info": {
   "codemirror_mode": {
    "name": "ipython",
    "version": 3
   },
   "file_extension": ".py",
   "mimetype": "text/x-python",
   "name": "python",
   "nbconvert_exporter": "python",
   "pygments_lexer": "ipython3",
   "version": "3.10.12"
  }
 },
 "nbformat": 4,
 "nbformat_minor": 5
}
