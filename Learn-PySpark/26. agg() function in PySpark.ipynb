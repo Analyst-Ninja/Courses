{
 "cells": [
  {
   "cell_type": "code",
   "execution_count": 1,
   "id": "6bc849af-9c01-4210-b4ea-90fae73deb8b",
   "metadata": {},
   "outputs": [
    {
     "name": "stderr",
     "output_type": "stream",
     "text": [
      "24/12/16 01:32:55 WARN Utils: Your hostname, codebase resolves to a loopback address: 127.0.1.1; using 10.255.255.254 instead (on interface lo)\n",
      "24/12/16 01:32:55 WARN Utils: Set SPARK_LOCAL_IP if you need to bind to another address\n",
      "Setting default log level to \"WARN\".\n",
      "To adjust logging level use sc.setLogLevel(newLevel). For SparkR, use setLogLevel(newLevel).\n",
      "24/12/16 01:32:56 WARN NativeCodeLoader: Unable to load native-hadoop library for your platform... using builtin-java classes where applicable\n"
     ]
    }
   ],
   "source": [
    "from pyspark.sql import SparkSession \n",
    "from pyspark.sql.functions import col, lit, when, \\\n",
    "desc, asc, cast, like, count, min, max, median, percentile\n",
    "from pyspark.sql.types import *\n",
    "\n",
    "spark = SparkSession.Builder().appName('agg()').getOrCreate()"
   ]
  },
  {
   "cell_type": "code",
   "execution_count": null,
   "id": "bdb7b0a0-193e-4c60-8d8d-9d9f8f35b0e2",
   "metadata": {},
   "outputs": [],
   "source": [
    "data = [\n",
    "    ('Ajay', 23, 3000, 'Data'),\n",
    "    ('Rohit', 27, 2000, 'Data'),\n",
    "    ('Dhananjay', 27, 2000, 'Data'),\n",
    "    ('Hema', 26, 2000, 'HR'),\n",
    "    ('Huedsad', 26, 1233, 'PayRoll'),\n",
    "]\n",
    "schema = ['name', 'age', 'salary', 'dept']\n",
    "\n",
    "df = spark.createDataFrame(data, schema)\n",
    "# df.show()"
   ]
  },
  {
   "cell_type": "code",
   "execution_count": null,
   "id": "6fd58af6-e28e-4a21-ada6-300bfa75752c",
   "metadata": {},
   "outputs": [],
   "source": [
    "df.groupBy('dept').count()\n",
    "df.collect()\n",
    "# df.groupBy('dept').max('salary').show()\n",
    "# df.groupBy('dept').min('salary').show()"
   ]
  },
  {
   "cell_type": "code",
   "execution_count": null,
   "id": "35d65373-ddd1-4361-b21b-78e1b2590ecf",
   "metadata": {},
   "outputs": [],
   "source": [
    "# df.groupBy('dept').agg(\n",
    "#     count('*').alias('countOfEmp'),\\\n",
    "#     min('salary').alias('minSal'),\\\n",
    "#     max('salary').alias('maxSal'),\\\n",
    "#     median('salary').alias('medianSal'),\\\n",
    "#     percentile('salary',.90).alias('P90Sal'),\\\n",
    "# ).show()"
   ]
  },
  {
   "cell_type": "code",
   "execution_count": null,
   "id": "a8085fca-e5ef-4213-8c70-d02b3341b153",
   "metadata": {},
   "outputs": [],
   "source": [
    "# spark.stop()"
   ]
  },
  {
   "cell_type": "code",
   "execution_count": null,
   "id": "1afce889-82da-4b24-960b-93efc1286bba",
   "metadata": {},
   "outputs": [],
   "source": [
    "spark.stop()"
   ]
  },
  {
   "cell_type": "code",
   "execution_count": null,
   "id": "277ba0ba-0bbf-4924-8b0b-6e67de629db0",
   "metadata": {},
   "outputs": [],
   "source": []
  }
 ],
 "metadata": {
  "kernelspec": {
   "display_name": "Python 3 (ipykernel)",
   "language": "python",
   "name": "python3"
  },
  "language_info": {
   "codemirror_mode": {
    "name": "ipython",
    "version": 3
   },
   "file_extension": ".py",
   "mimetype": "text/x-python",
   "name": "python",
   "nbconvert_exporter": "python",
   "pygments_lexer": "ipython3",
   "version": "3.10.12"
  }
 },
 "nbformat": 4,
 "nbformat_minor": 5
}
