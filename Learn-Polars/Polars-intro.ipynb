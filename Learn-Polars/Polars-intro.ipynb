{
 "cells": [
  {
   "cell_type": "code",
   "execution_count": 1,
   "id": "d0a1fd2d-975a-44e2-a577-b691e4b42dbd",
   "metadata": {},
   "outputs": [],
   "source": [
    "import polars as pl"
   ]
  },
  {
   "cell_type": "code",
   "execution_count": 10,
   "id": "fb4769f8-faa3-4542-8934-7d3e91b94d12",
   "metadata": {},
   "outputs": [
    {
     "data": {
      "text/html": [
       "<div><style>\n",
       ".dataframe > thead > tr,\n",
       ".dataframe > tbody > tr {\n",
       "  text-align: right;\n",
       "  white-space: pre-wrap;\n",
       "}\n",
       "</style>\n",
       "<small>shape: (2, 2)</small><table border=\"1\" class=\"dataframe\"><thead><tr><th>name</th><th>age</th></tr><tr><td>str</td><td>i64</td></tr></thead><tbody><tr><td>&quot;Batman&quot;</td><td>40</td></tr><tr><td>&quot;Clark&quot;</td><td>42</td></tr></tbody></table></div>"
      ],
      "text/plain": [
       "shape: (2, 2)\n",
       "┌────────┬─────┐\n",
       "│ name   ┆ age │\n",
       "│ ---    ┆ --- │\n",
       "│ str    ┆ i64 │\n",
       "╞════════╪═════╡\n",
       "│ Batman ┆ 40  │\n",
       "│ Clark  ┆ 42  │\n",
       "└────────┴─────┘"
      ]
     },
     "execution_count": 10,
     "metadata": {},
     "output_type": "execute_result"
    }
   ],
   "source": [
    "pl.LazyFrame({\n",
    "    'name' : ['Batman','Robin','Clark'],\n",
    "    'age' : [40,35,42],\n",
    "}).filter(pl.col('age') > 35).collect()"
   ]
  },
  {
   "cell_type": "code",
   "execution_count": 14,
   "id": "20049e48-5413-44d6-83ac-33336617d9ea",
   "metadata": {},
   "outputs": [
    {
     "data": {
      "text/html": [
       "<div><style>\n",
       ".dataframe > thead > tr,\n",
       ".dataframe > tbody > tr {\n",
       "  text-align: right;\n",
       "  white-space: pre-wrap;\n",
       "}\n",
       "</style>\n",
       "<small>shape: (1, 1)</small><table border=\"1\" class=\"dataframe\"><thead><tr><th>age</th></tr><tr><td>i64</td></tr></thead><tbody><tr><td>117</td></tr></tbody></table></div>"
      ],
      "text/plain": [
       "shape: (1, 1)\n",
       "┌─────┐\n",
       "│ age │\n",
       "│ --- │\n",
       "│ i64 │\n",
       "╞═════╡\n",
       "│ 117 │\n",
       "└─────┘"
      ]
     },
     "execution_count": 14,
     "metadata": {},
     "output_type": "execute_result"
    }
   ],
   "source": [
    "pl.LazyFrame({\n",
    "    'name' : ['Batman','Robin','Clark'],\n",
    "    'age' : [40,35,42],\n",
    "}).select(pl.col('age').sum()).collect()"
   ]
  },
  {
   "cell_type": "code",
   "execution_count": null,
   "id": "dc7fc379-cd51-4a75-8d4e-e2566a1b2860",
   "metadata": {},
   "outputs": [],
   "source": []
  }
 ],
 "metadata": {
  "kernelspec": {
   "display_name": "Python 3 (ipykernel)",
   "language": "python",
   "name": "python3"
  },
  "language_info": {
   "codemirror_mode": {
    "name": "ipython",
    "version": 3
   },
   "file_extension": ".py",
   "mimetype": "text/x-python",
   "name": "python",
   "nbconvert_exporter": "python",
   "pygments_lexer": "ipython3",
   "version": "3.10.12"
  }
 },
 "nbformat": 4,
 "nbformat_minor": 5
}
