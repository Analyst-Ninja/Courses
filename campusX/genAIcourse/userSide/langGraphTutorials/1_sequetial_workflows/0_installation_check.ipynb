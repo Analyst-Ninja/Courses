{
 "cells": [
  {
   "cell_type": "code",
   "execution_count": 1,
   "id": "42561e5d-571d-44ef-b573-a07026bff4b5",
   "metadata": {},
   "outputs": [],
   "source": [
    "from langgraph.graph import StateGraph "
   ]
  },
  {
   "cell_type": "markdown",
   "id": "290a86ab-4c82-447b-accf-9e0528c66dfb",
   "metadata": {},
   "source": [
    "#### Installtion Validated"
   ]
  }
 ],
 "metadata": {
  "kernelspec": {
   "display_name": "Python 3 (ipykernel)",
   "language": "python",
   "name": "python3"
  },
  "language_info": {
   "codemirror_mode": {
    "name": "ipython",
    "version": 3
   },
   "file_extension": ".py",
   "mimetype": "text/x-python",
   "name": "python",
   "nbconvert_exporter": "python",
   "pygments_lexer": "ipython3",
   "version": "3.12.3"
  }
 },
 "nbformat": 4,
 "nbformat_minor": 5
}
