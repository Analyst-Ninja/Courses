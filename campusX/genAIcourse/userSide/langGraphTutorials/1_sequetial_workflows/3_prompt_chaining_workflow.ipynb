{
 "cells": [
  {
   "cell_type": "code",
   "execution_count": 2,
   "id": "597bc3f9-c395-4c67-a59d-bd091d0c4b95",
   "metadata": {},
   "outputs": [],
   "source": [
    "from langgraph.graph import StateGraph, START, END\n",
    "from langchain_google_genai import ChatGoogleGenerativeAI\n",
    "from dotenv import load_dotenv\n",
    "from typing import TypedDict"
   ]
  },
  {
   "cell_type": "code",
   "execution_count": 3,
   "id": "d5def180-0a19-44ac-a935-dcfe24ef2478",
   "metadata": {},
   "outputs": [
    {
     "data": {
      "text/plain": [
       "True"
      ]
     },
     "execution_count": 3,
     "metadata": {},
     "output_type": "execute_result"
    }
   ],
   "source": [
    "load_dotenv()"
   ]
  },
  {
   "cell_type": "code",
   "execution_count": 13,
   "id": "facaafab-2d04-46ad-9c57-8ebd496e10da",
   "metadata": {},
   "outputs": [],
   "source": [
    "# Define Model\n",
    "model = ChatGoogleGenerativeAI(model=\"gemini-2.0-flash\")"
   ]
  },
  {
   "cell_type": "code",
   "execution_count": 14,
   "id": "8be9c5b0-c482-4f5c-8222-10dd3a4046f3",
   "metadata": {},
   "outputs": [],
   "source": [
    "# Define State\n",
    "class BlogState(TypedDict):\n",
    "\n",
    "    topic: str\n",
    "    outline: str\n",
    "    content: str"
   ]
  },
  {
   "cell_type": "code",
   "execution_count": 15,
   "id": "0af1b19a-105c-4e4b-9fbb-005b8613dc6c",
   "metadata": {},
   "outputs": [],
   "source": [
    "def create_outline(state: BlogState) -> BlogState:\n",
    "\n",
    "    # Extract topic\n",
    "    topic = state['topic']\n",
    "\n",
    "    # Create prompt\n",
    "    prompt = f\"Generate a outline for the topic - {topic}\"\n",
    "\n",
    "    # Generate outline\n",
    "    outline = model.invoke(prompt)\n",
    "\n",
    "    # Update State\n",
    "    state['outline'] = outline\n",
    "\n",
    "    return state"
   ]
  },
  {
   "cell_type": "code",
   "execution_count": 16,
   "id": "5bc7b269-abd3-45ca-b0fd-4b2f73aa06fb",
   "metadata": {},
   "outputs": [],
   "source": [
    "def create_blog(state: BlogState) -> BlogState:\n",
    "\n",
    "    # Extract topic and outline\n",
    "    topic = state['topic']\n",
    "    outline = state['outline']\n",
    "\n",
    "    # Create prompt\n",
    "    prompt = f\"Generate a blog for the topic - {topic} with the outline given below\\n{outline}\"\n",
    "\n",
    "    # Generate blog\n",
    "    content = model.invoke(prompt)\n",
    "\n",
    "    # Update State\n",
    "    state['content'] = content\n",
    "\n",
    "    return state"
   ]
  },
  {
   "cell_type": "code",
   "execution_count": 17,
   "id": "c26551fb-204f-4e92-b210-9608acaebdd5",
   "metadata": {},
   "outputs": [
    {
     "data": {
      "image/png": "[encoded data removed]",
      "text/plain": [
       "<langgraph.graph.state.CompiledStateGraph object at 0x77ca58f707a0>"
      ]
     },
     "execution_count": 17,
     "metadata": {},
     "output_type": "execute_result"
    }
   ],
   "source": [
    "# Define graph\n",
    "graph = StateGraph(BlogState)\n",
    "\n",
    "# Add nodes\n",
    "graph.add_node('create_outline', create_outline)\n",
    "graph.add_node('create_blog', create_blog)\n",
    "\n",
    "# Add edges\n",
    "graph.add_edge(START, 'create_outline')\n",
    "graph.add_edge('create_outline', 'create_blog')\n",
    "graph.add_edge('create_blog', END)\n",
    "\n",
    "# Compile workflow\n",
    "workflow = graph.compile()\n",
    "workflow"
   ]
  },
  {
   "cell_type": "code",
   "execution_count": 18,
   "id": "76d550a9-1765-4b2e-9abc-a4a2500f73b7",
   "metadata": {},
   "outputs": [
    {
     "name": "stdout",
     "output_type": "stream",
     "text": [
      "content='## The Transformer Architecture: Revolutionizing AI with Self-Attention\\n\\n**I. Introduction**\\n\\n*   **A. Hook:** The Transformer architecture has fundamentally reshaped the landscape of artificial intelligence, driving breakthroughs in fields ranging from natural language processing to computer vision with unprecedented accuracy and efficiency.\\n*   **B. Context:** Before Transformers, Recurrent Neural Networks (RNNs) and Convolutional Neural Networks (CNNs) were the dominant architectures for sequential data processing. However, they suffered from limitations such as difficulty in parallelization and capturing long-range dependencies.\\n*   **C. Thesis Statement:** The transformer architecture is a neural network architecture that relies on self-attention mechanisms to process sequential data in parallel, overcoming limitations of previous architectures and achieving state-of-the-art performance in various AI tasks.\\n*   **D. Outline Preview:** This blog post will delve into the intricacies of the Transformer architecture, exploring its building blocks, advantages, applications, variations, limitations, and future directions.\\n\\n**II. Background: Limitations of Previous Architectures**\\n\\n*   **A. Recurrent Neural Networks (RNNs):**\\n    *   1.  **Sequential Processing:** RNNs process data sequentially, making parallelization difficult and limiting their ability to leverage modern hardware.\\n    *   2.  **Vanishing/Exploding Gradients:** RNNs struggle to learn long-range dependencies due to the vanishing or exploding gradient problem, hindering their performance on long sequences.\\n    *   3.  **Difficulty in capturing long-range dependencies:** As the sequence length increases, RNNs often fail to capture the relationships between distant elements.\\n*   **B. Convolutional Neural Networks (CNNs):**\\n    *   1.  **Limited Contextual Understanding:** CNNs primarily focus on local features, making it challenging to capture the global context of a sequence.\\n    *   2.  **Requires deeper networks to capture long-range dependencies:** To capture long-range dependencies, CNNs require deeper networks, increasing computational complexity and potentially leading to overfitting.\\n\\n**III. The Transformer Architecture: Building Blocks**\\n\\n*   **A. Self-Attention Mechanism:**\\n    *   1.  **Explanation of the concept:** Self-attention allows the model to attend to different parts of the input sequence when processing each element, capturing relationships and dependencies between them.\\n    *   2.  **Queries, Keys, and Values:** In self-attention, each word in the input sequence is transformed into three vectors: a query, a key, and a value. The query represents the word being processed, while the keys and values represent all other words in the sequence.\\n    *   3.  **Scaled Dot-Product Attention:** The scaled dot-product attention mechanism calculates the attention weights by taking the dot product of the query and each key, scaling the result by the square root of the dimension of the keys, and applying a softmax function to obtain the attention weights. This can be represented as:\\n        `Attention(Q, K, V) = softmax((QK^T) / sqrt(d_k))V`\\n        where Q is the matrix of queries, K is the matrix of keys, V is the matrix of values, and d_k is the dimension of the keys. The scaling factor prevents the dot products from becoming too large, which can lead to small gradients and difficulty in training.\\n    *   4.  **Multi-Head Attention:** Multi-head attention allows the model to attend to different aspects of the input sequence by using multiple sets of queries, keys, and values. Each \"head\" learns a different attention pattern, capturing different types of relationships between words. The outputs of the different heads are then concatenated and linearly transformed to produce the final output.\\n*   **B. Encoder-Decoder Structure:**\\n    *   1.  **Encoder:** The encoder processes the input sequence and transforms it into a contextualized representation.\\n        *   a.  **Stack of Encoder Layers:** The encoder consists of a stack of identical layers. Each layer typically includes a self-attention sub-layer, a feed-forward network sub-layer, residual connections around each sub-layer, and layer normalization after each sub-layer. The self-attention sub-layer captures relationships between words in the input sequence, while the feed-forward network further processes the information. Residual connections and layer normalization help to train deeper networks and improve convergence.\\n    *   2.  **Decoder:** The decoder generates the output sequence based on the encoder\\'s output and previously generated tokens.\\n        *   a.  **Masked Self-Attention:** The decoder uses a masked self-attention mechanism to prevent it from attending to future tokens during training, ensuring that the model only uses information from the past to predict the next token.\\n        *   b.  **Encoder-Decoder Attention:** The decoder also uses an encoder-decoder attention mechanism to attend to the encoder\\'s output, allowing it to incorporate information from the input sequence when generating the output sequence.\\n        *   c.  **Stack of Decoder Layers:** Similar to the encoder, the decoder consists of a stack of identical layers. Each layer typically includes a masked self-attention sub-layer, an encoder-decoder attention sub-layer, a feed-forward network sub-layer, residual connections around each sub-layer, and layer normalization after each sub-layer.\\n*   **C. Positional Encoding:**\\n    *   1.  **Necessity:** Since Transformers do not have inherent sequential information (permutation-invariant), positional encoding is crucial for providing information about the position of tokens in the sequence.\\n    *   2.  **Different techniques:**\\n        *   **Sinusoidal positional encodings (original paper):** Uses sine and cosine functions of different frequencies to represent the position of each token.\\n        *   **Learned positional embeddings:** Learns a unique embedding for each position in the sequence.\\n*   **D. Residual Connections and Layer Normalization:**\\n    *   1.  **Importance for training deep networks:** Residual connections and layer normalization are essential for training deep Transformer networks, as they help to mitigate the vanishing gradient problem and improve convergence.\\n    *   2.  **Explanation of how they are used in the Transformer architecture:** Residual connections add the input of a sub-layer to its output, allowing the gradient to flow more easily through the network. Layer normalization normalizes the activations within each layer, stabilizing the training process.\\n\\n**IV. Advantages of Transformer Architecture**\\n\\n*   **A. Parallelization:** Transformers can process the entire input sequence in parallel, resulting in significant speed-up in training compared to RNNs.\\n*   **B. Long-Range Dependencies:** Self-attention allows Transformers to capture long-range dependencies more effectively than RNNs, as it can directly attend to any part of the input sequence.\\n*   **C. Contextual Understanding:** By attending to different parts of the input sequence, Transformers gain a better understanding of the context of words and phrases.\\n*   **D. Scalability:** Transformers can be scaled to handle large amounts of data, making them suitable for training on massive datasets.\\n\\n**V. Applications of Transformer Architecture**\\n\\n*   **A. Natural Language Processing (NLP):**\\n    *   1.  **Machine Translation (e.g., Google Translate):** Transformers have revolutionized machine translation, achieving state-of-the-art results in translating between different languages.\\n    *   2.  **Text Summarization:** Transformers can generate concise and informative summaries of long documents.\\n    *   3.  **Question Answering:** Transformers can answer questions based on a given context.\\n    *   4.  **Sentiment Analysis:** Transformers can determine the sentiment (positive, negative, or neutral) of a given text.\\n    *   5.  **Text Generation:** Transformers can generate realistic and coherent text, such as articles, stories, and poems.\\n*   **B. Computer Vision (CV):**\\n    *   1.  **Image Classification (e.g., Vision Transformer - ViT):** Transformers can classify images into different categories.\\n    *   2.  **Object Detection:** Transformers can identify and locate objects within an image.\\n    *   3.  **Image Segmentation:** Transformers can segment an image into different regions, assigning a label to each region.\\n    *   4.  **Image Generation:** Transformers can generate realistic and high-quality images.\\n*   **C. Speech Recognition:**\\n    *   1.  **End-to-end speech recognition systems:** Transformers have enabled the development of end-to-end speech recognition systems that directly transcribe speech into text.\\n*   **D. Other Applications:**\\n    *   1.  **Time Series Analysis:** Transformers can be used to analyze time series data, such as stock prices and weather patterns.\\n    *   2.  **Bioinformatics:** Transformers can be applied to various bioinformatics tasks, such as protein structure prediction and drug discovery.\\n\\n**VI. Variations and Extensions of Transformer Architecture**\\n\\n*   **A. BERT (Bidirectional Encoder Representations from Transformers):** BERT is a pre-training technique that uses a bidirectional Transformer encoder to learn contextualized word embeddings.\\n*   **B. GPT (Generative Pre-trained Transformer):** GPT is a pre-training technique that uses a Transformer decoder to generate text.\\n*   **C. T5 (Text-to-Text Transfer Transformer):** T5 reformulates all NLP tasks as text-to-text problems, allowing a single model to be used for multiple tasks.\\n*   **D. Other Architectures:** Numerous modifications and improvements have been made to the original Transformer architecture, leading to the development of new and more powerful models.\\n\\n**VII. Challenges and Limitations**\\n\\n*   **A. Computational Cost:** Training large Transformer models can be computationally expensive, requiring significant resources and time.\\n*   **B. Data Requirements:** Transformers typically require large amounts of data for training to achieve optimal performance.\\n*   **C. Interpretability:** It can be difficult to interpret the decisions made by Transformer models, making it challenging to understand why they make certain predictions.\\n*   **D. Ethical Considerations:** Transformer models can be biased if trained on biased data, leading to unfair or discriminatory outputs.\\n\\n**VIII. Future Directions**\\n\\n*   **A. Reducing Computational Cost:** Research is ongoing to develop more efficient Transformer architectures that require less computational resources.\\n*   **B. Improving Interpretability:** Researchers are exploring methods for understanding how Transformers make decisions, such as attention visualization and probing techniques.\\n*   **C. Addressing Ethical Concerns:** Efforts are being made to develop methods for mitigating bias in Transformer models, such as data augmentation and adversarial training.\\n*   **D. Exploring New Applications:** Researchers are continuously exploring new applications of Transformers in various fields, pushing the boundaries of what is possible with AI.\\n\\n**IX. Conclusion**\\n\\n*   **A. Restate Thesis:** The Transformer architecture has revolutionized artificial intelligence, enabling breakthroughs in various fields with its parallel processing capabilities and self-attention mechanism.\\n*   **B. Recap Key Points:** The key advantages of Transformers include parallelization, capturing long-range dependencies, contextual understanding, and scalability. They have found widespread applications in NLP, computer vision, and other domains.\\n*   **C. Future Outlook:** The Transformer architecture will continue to play a crucial role in AI research and development, driving innovation and enabling new applications.\\n*   **D. Closing Statement:** The transformative power of Transformers in the field of artificial intelligence is undeniable, and their continued evolution promises to unlock even greater potential in the years to come.' additional_kwargs={} response_metadata={'prompt_feedback': {'block_reason': 0, 'safety_ratings': []}, 'finish_reason': 'STOP', 'model_name': 'gemini-2.0-flash', 'safety_ratings': []} id='run--88f25fce-f6bf-48a9-9672-6eac2318e9c4-0' usage_metadata={'input_tokens': 1575, 'output_tokens': 2436, 'total_tokens': 4011, 'input_token_details': {'cache_read': 0}}\n"
     ]
    }
   ],
   "source": [
    "# Define initial State\n",
    "topic = \"What is transformer architecture in AI?\"\n",
    "\n",
    "initial_state = {\n",
    "    'topic': topic,\n",
    "    'outline': \"\",\n",
    "    'content': \"\"\n",
    "}\n",
    "\n",
    "# Execute workflow\n",
    "final_state = workflow.invoke(initial_state)\n",
    "\n",
    "print(final_state['content'])"
   ]
  }
 ],
 "metadata": {
  "kernelspec": {
   "display_name": "Python 3 (ipykernel)",
   "language": "python",
   "name": "python3"
  },
  "language_info": {
   "codemirror_mode": {
    "name": "ipython",
    "version": 3
   },
   "file_extension": ".py",
   "mimetype": "text/x-python",
   "name": "python",
   "nbconvert_exporter": "python",
   "pygments_lexer": "ipython3",
   "version": "3.12.3"
  }
 },
 "nbformat": 4,
 "nbformat_minor": 5
}
