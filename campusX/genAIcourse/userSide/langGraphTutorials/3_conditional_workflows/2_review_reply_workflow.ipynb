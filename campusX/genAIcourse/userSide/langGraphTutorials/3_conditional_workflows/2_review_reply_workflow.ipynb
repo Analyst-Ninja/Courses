{
 "cells": [
  {
   "cell_type": "code",
   "execution_count": 1,
   "id": "29d648ca-f6b5-4004-be52-d73c2b919eb0",
   "metadata": {},
   "outputs": [],
   "source": [
    "from langgraph.graph import StateGraph, START, END\n",
    "from langchain_google_genai import ChatGoogleGenerativeAI\n",
    "from dotenv import load_dotenv\n",
    "from typing import TypedDict, Literal, Annotated\n",
    "from pydantic import BaseModel, Field"
   ]
  },
  {
   "cell_type": "code",
   "execution_count": 2,
   "id": "fe07a9ff-7c50-4473-b74a-8f756f982b43",
   "metadata": {},
   "outputs": [
    {
     "data": {
      "text/plain": [
       "True"
      ]
     },
     "execution_count": 2,
     "metadata": {},
     "output_type": "execute_result"
    }
   ],
   "source": [
    "load_dotenv()"
   ]
  },
  {
   "cell_type": "code",
   "execution_count": 4,
   "id": "454f04e4-1d48-4b1b-bf2f-1805e9d5d0e8",
   "metadata": {},
   "outputs": [],
   "source": [
    "class SentimentSchema(BaseModel):\n",
    "\n",
    "    sentiment: Literal['positive', 'negative'] = Field(description=\"Sentiment of the review\")"
   ]
  },
  {
   "cell_type": "code",
   "execution_count": 18,
   "id": "969f1a27-714c-4ddb-bf2f-3fe24fde3666",
   "metadata": {},
   "outputs": [],
   "source": [
    "class DiagnosisSchema(BaseModel):\n",
    "    issue_type: Literal[\"UX\", \"Performance\", \"Bug\", \"Support\", \"Other\"] = Field(description='The category of issue mentioned in the review')\n",
    "    tone: Literal[\"angry\", \"frustrated\", \"disappointed\", \"calm\"] = Field(description='The emotional tone expressed by the user')\n",
    "    urgency: Literal[\"low\", \"medium\", \"high\"] = Field(description='How urgent or critical the issue appears to be')"
   ]
  },
  {
   "cell_type": "code",
   "execution_count": 19,
   "id": "85154f8c-7ccf-4b5d-acdf-71405ddf8180",
   "metadata": {},
   "outputs": [],
   "source": [
    "# Define model\n",
    "\n",
    "model = ChatGoogleGenerativeAI(model=\"gemini-2.0-flash\")\n",
    "structured_model = model.with_structured_output(SentimentSchema)\n",
    "structured_model_for_diagnosis = model.with_structured_output(DiagnosisSchema)"
   ]
  },
  {
   "cell_type": "code",
   "execution_count": 11,
   "id": "3bbe0249-108b-41db-b47a-cc6849af4704",
   "metadata": {},
   "outputs": [
    {
     "data": {
      "text/plain": [
       "'positive'"
      ]
     },
     "execution_count": 11,
     "metadata": {},
     "output_type": "execute_result"
    }
   ],
   "source": [
    "prompt = f\"I bought the new phone from flipkart and it is too good\"\n",
    "\n",
    "structured_model.invoke(prompt).sentiment"
   ]
  },
  {
   "cell_type": "code",
   "execution_count": 12,
   "id": "a8f36e54-e7c3-4488-8a3d-6b076c5a8416",
   "metadata": {},
   "outputs": [],
   "source": [
    "class ReviewState(TypedDict):\n",
    "\n",
    "    review: str\n",
    "    sentiment: Literal['postive', 'negative']\n",
    "    diagnosis: dict\n",
    "    response: str"
   ]
  },
  {
   "cell_type": "code",
   "execution_count": 13,
   "id": "438d4bff-bb11-4d57-b1c7-9eeb4e224870",
   "metadata": {},
   "outputs": [],
   "source": [
    "def get_sentiment(state: ReviewState) -> ReviewState:\n",
    "\n",
    "    prompt = f\"For the following review find the sentiment\\n{state['review']}\"\n",
    "    output = structured_model.invoke(prompt)\n",
    "\n",
    "    return {'sentiment': output.sentiment}"
   ]
  },
  {
   "cell_type": "code",
   "execution_count": 24,
   "id": "602c3457-e173-409f-8680-7c88cec77606",
   "metadata": {},
   "outputs": [],
   "source": [
    "def check_sentiment(state: ReviewState) -> Literal['positive_response', 'run_diagnosis']:\n",
    "\n",
    "    if state['sentiment'] == 'positive':\n",
    "        return 'positive_response'\n",
    "    else:\n",
    "        return 'run_diagnosis'\n",
    "\n",
    "def positive_response(state: ReviewState) -> ReviewState:\n",
    "\n",
    "    prompt = f\"Write a warm thank you message in response to the review given below:\\n{state['review']}\\n Also kinldy ask to the user to leave feedback on our website\"\n",
    "    output = model.invoke(prompt).content\n",
    "\n",
    "    return {'response': output}\n",
    "\n",
    "def run_diagnosis(state: ReviewState) -> ReviewState:\n",
    "\n",
    "    prompt = f\"Diagnose this negative review:\\n{state['review']}\\n\\n Return issue_type, tone and urgency\"\n",
    "    output = structured_model_for_diagnosis.invoke(prompt)\n",
    "\n",
    "    return {'diagnosis': output.model_dump()}\n",
    "\n",
    "def negative_reponse(state: ReviewState):\n",
    "\n",
    "    diagnosis = state['diagnosis']\n",
    "\n",
    "    prompt = f\"\"\"\n",
    "    You are a support assistant.\n",
    "    The user had a '{diagnosis['issue_type']}' issue, sounded '{diagnosis['tone']}', and marked urgency as '{diagnosis['urgency']}'.\n",
    "    Write an empathetic, helpful resolution message.\n",
    "    \"\"\"\n",
    "    response = model.invoke(prompt).content\n",
    "\n",
    "    return {'response': response}"
   ]
  },
  {
   "cell_type": "code",
   "execution_count": 25,
   "id": "6b60994d-ef87-42ef-8c81-6dec8375d517",
   "metadata": {},
   "outputs": [
    {
     "data": {
      "image/png": "[encoded data removed]",
      "text/plain": [
       "<langgraph.graph.state.CompiledStateGraph object at 0x7f8991b71fa0>"
      ]
     },
     "execution_count": 25,
     "metadata": {},
     "output_type": "execute_result"
    }
   ],
   "source": [
    "# Define graph\n",
    "graph = StateGraph(ReviewState)\n",
    "\n",
    "# Add nodes\n",
    "graph.add_node('get_sentiment', get_sentiment)\n",
    "graph.add_node('positive_response', positive_response)\n",
    "graph.add_node('run_diagnosis', run_diagnosis)\n",
    "graph.add_node('negative_reponse', negative_reponse)\n",
    "\n",
    "# Add edges\n",
    "graph.add_edge(START, 'get_sentiment')\n",
    "\n",
    "graph.add_conditional_edges('get_sentiment', check_sentiment)\n",
    "graph.add_edge('positive_response', END)\n",
    "graph.add_edge('run_diagnosis', 'negative_reponse')\n",
    "graph.add_edge('negative_reponse', END)\n",
    "\n",
    "# Compile workflow\n",
    "workflow = graph.compile()\n",
    "workflow"
   ]
  },
  {
   "cell_type": "code",
   "execution_count": 27,
   "id": "f561f26a-808c-4da9-aefa-89f66d215e64",
   "metadata": {},
   "outputs": [
    {
     "data": {
      "text/plain": [
       "{'review': 'The phone is really good and I want to buy it for my brother as well',\n",
       " 'sentiment': 'positive',\n",
       " 'response': \"Subject: Thank you for your wonderful review!\\n\\nDear [Customer Name],\\n\\nThank you so much for your fantastic review! We're thrilled to hear you're enjoying the phone and that you're considering buying another one for your brother. That's truly the best compliment we could receive!\\n\\nWe really appreciate you taking the time to share your positive experience.\\n\\nWe would also be incredibly grateful if you could share your feedback on our website at [Link to your website's review page]. Your opinion helps us improve and allows others to make informed decisions.\\n\\nThanks again for your support! We hope your brother loves the phone as much as you do.\\n\\nWarmly,\\n\\nThe [Your Company Name] Team\"}"
      ]
     },
     "execution_count": 27,
     "metadata": {},
     "output_type": "execute_result"
    }
   ],
   "source": [
    "# Define initial state\n",
    "\n",
    "initial_state = {\n",
    "    'review': 'The phone is really good and I want to buy it for my brother as well'\n",
    "}\n",
    "\n",
    "workflow.invoke(initial_state)"
   ]
  },
  {
   "cell_type": "code",
   "execution_count": null,
   "id": "36f2ea01-3151-41f2-a575-4fd490b73bf2",
   "metadata": {},
   "outputs": [],
   "source": []
  }
 ],
 "metadata": {
  "kernelspec": {
   "display_name": "Python 3 (ipykernel)",
   "language": "python",
   "name": "python3"
  },
  "language_info": {
   "codemirror_mode": {
    "name": "ipython",
    "version": 3
   },
   "file_extension": ".py",
   "mimetype": "text/x-python",
   "name": "python",
   "nbconvert_exporter": "python",
   "pygments_lexer": "ipython3",
   "version": "3.12.3"
  }
 },
 "nbformat": 4,
 "nbformat_minor": 5
}
