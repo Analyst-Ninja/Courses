{
 "cells": [
  {
   "cell_type": "code",
   "execution_count": 20,
   "id": "6ac209e9-73cf-490e-bc33-0a2a7ac33ad5",
   "metadata": {},
   "outputs": [],
   "source": [
    "from langgraph.graph import StateGraph, START, END\n",
    "from langchain_google_genai import ChatGoogleGenerativeAI\n",
    "from dotenv import load_dotenv\n",
    "from typing import TypedDict, Literal\n",
    "from math import sqrt"
   ]
  },
  {
   "cell_type": "code",
   "execution_count": 21,
   "id": "10d425d9-292c-40b6-9b62-ded9ca0b59fd",
   "metadata": {},
   "outputs": [
    {
     "data": {
      "text/plain": [
       "True"
      ]
     },
     "execution_count": 21,
     "metadata": {},
     "output_type": "execute_result"
    }
   ],
   "source": [
    "load_dotenv()"
   ]
  },
  {
   "cell_type": "code",
   "execution_count": 22,
   "id": "1e24a351-ab2f-44e3-8289-fb39519721a9",
   "metadata": {},
   "outputs": [],
   "source": [
    "class QuadEqState(TypedDict):\n",
    "    a: float\n",
    "    b: float\n",
    "    c: float\n",
    "\n",
    "    equation: str\n",
    "    discriminant: float\n",
    "    result: str"
   ]
  },
  {
   "cell_type": "code",
   "execution_count": 23,
   "id": "e0cb79c1-cf1d-441e-94d3-b1e2a77e2f0d",
   "metadata": {},
   "outputs": [],
   "source": [
    "def show_equation(state: QuadEqState) -> QuadEqState:\n",
    "    \n",
    "    equation = f\"{state['a']} x2 {state['b']} x {state['c']}\"\n",
    "\n",
    "    return {'equation': equation}\n",
    "\n",
    "def calculate_discriminant(state: QuadEqState) -> QuadEqState:\n",
    "\n",
    "    a = state['a']\n",
    "    b = state['b']\n",
    "    c = state['c']\n",
    "\n",
    "    d = b**2 - (4*a*c)\n",
    "\n",
    "    return {'discriminant': d}"
   ]
  },
  {
   "cell_type": "code",
   "execution_count": 24,
   "id": "323f41c0-a985-4780-965c-5b6bdb58e60e",
   "metadata": {},
   "outputs": [],
   "source": [
    "def real_roots(state: QuadEqState) -> QuadEqState:\n",
    "\n",
    "    a = state['a']\n",
    "    b = state['b']\n",
    "    c = state['c']\n",
    "    \n",
    "    d = state['discriminant']\n",
    "\n",
    "    root1 = (b*-1 + sqrt(d)) / (2*a) # you can use d**0.5 as well to get square root\n",
    "    root2 = (b*-1 - sqrt(d)) / (2*a)\n",
    "\n",
    "    return {'result': f\"Roots - ({root1}, {root2})\"}\n",
    "\n",
    "def equal_roots(state: QuadEqState) -> QuadEqState:\n",
    "\n",
    "    a = state['a']\n",
    "    b = state['b']\n",
    "    c = state['c']\n",
    "\n",
    "    root = (b*-1) / (2*a)\n",
    "\n",
    "    return {'result': f\"Roots - ({root}, {root})\"}\n",
    "\n",
    "def no_real_roots(state: QuadEqState) -> QuadEqState:\n",
    "\n",
    "    return {'result': f\"Roots - No possible real roots\"}"
   ]
  },
  {
   "cell_type": "code",
   "execution_count": 25,
   "id": "34402c8f-60e4-4b60-9dc8-518e246a35e9",
   "metadata": {},
   "outputs": [],
   "source": [
    "def check_condition(state: QuadEqState) -> Literal['real_roots','equal_roots','no_real_roots']:\n",
    "    d = state['discriminant']\n",
    "\n",
    "    if d > 0:\n",
    "        return 'real_roots'\n",
    "    elif d == 0:\n",
    "        return 'equal_roots'\n",
    "    else:\n",
    "        return 'no_real_roots'"
   ]
  },
  {
   "cell_type": "code",
   "execution_count": 26,
   "id": "f2c5e419-80d2-4a7c-90bb-6739ed637d78",
   "metadata": {},
   "outputs": [
    {
     "data": {
      "image/png": "[encoded data removed]",
      "text/plain": [
       "<langgraph.graph.state.CompiledStateGraph object at 0x71426274df40>"
      ]
     },
     "execution_count": 26,
     "metadata": {},
     "output_type": "execute_result"
    }
   ],
   "source": [
    "# Define graph\n",
    "graph = StateGraph(QuadEqState)\n",
    "\n",
    "# Add nodes\n",
    "graph.add_node('show_equation', show_equation)\n",
    "graph.add_node('calculate_discriminant', calculate_discriminant)\n",
    "\n",
    "graph.add_node('real_roots', real_roots)\n",
    "graph.add_node('equal_roots', equal_roots)\n",
    "graph.add_node('no_real_roots', no_real_roots)\n",
    "\n",
    "# Add edges\n",
    "graph.add_edge(START, 'show_equation')\n",
    "graph.add_edge('show_equation', 'calculate_discriminant')\n",
    "\n",
    "graph.add_conditional_edges('calculate_discriminant', check_condition)\n",
    "graph.add_edge('real_roots', END)\n",
    "graph.add_edge('equal_roots', END)\n",
    "graph.add_edge('no_real_roots', END)\n",
    "\n",
    "# Compile workflow\n",
    "workflow = graph.compile()\n",
    "workflow"
   ]
  },
  {
   "cell_type": "code",
   "execution_count": 28,
   "id": "7fbe0418-0a90-41a0-a390-aa0218aea6ec",
   "metadata": {},
   "outputs": [
    {
     "data": {
      "text/plain": [
       "{'a': 2,\n",
       " 'b': 8,\n",
       " 'c': 5,\n",
       " 'equation': '2 x2 8 x 5',\n",
       " 'discriminant': 24,\n",
       " 'result': 'Roots - (-0.7752551286084111, -3.224744871391589)'}"
      ]
     },
     "execution_count": 28,
     "metadata": {},
     "output_type": "execute_result"
    }
   ],
   "source": [
    "# Define initial state\n",
    "initial_state = {\n",
    "    'a': 2,\n",
    "    'b': 8,\n",
    "    'c': 5\n",
    "}\n",
    "\n",
    "workflow.invoke(initial_state)"
   ]
  },
  {
   "cell_type": "code",
   "execution_count": null,
   "id": "0ab87666-e8e2-4f2b-a504-607a8133ed5b",
   "metadata": {},
   "outputs": [],
   "source": []
  }
 ],
 "metadata": {
  "kernelspec": {
   "display_name": "Python 3 (ipykernel)",
   "language": "python",
   "name": "python3"
  },
  "language_info": {
   "codemirror_mode": {
    "name": "ipython",
    "version": 3
   },
   "file_extension": ".py",
   "mimetype": "text/x-python",
   "name": "python",
   "nbconvert_exporter": "python",
   "pygments_lexer": "ipython3",
   "version": "3.12.3"
  }
 },
 "nbformat": 4,
 "nbformat_minor": 5
}
