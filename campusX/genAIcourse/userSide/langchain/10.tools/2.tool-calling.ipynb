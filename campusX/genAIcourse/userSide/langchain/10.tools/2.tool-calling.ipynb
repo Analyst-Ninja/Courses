{
 "cells": [
  {
   "cell_type": "code",
   "execution_count": 38,
   "id": "761d5b9c",
   "metadata": {},
   "outputs": [],
   "source": [
    "from langchain_google_genai import ChatGoogleGenerativeAI\n",
    "from langchain_core.tools import tool\n",
    "from langchain_core.messages import HumanMessage\n",
    "import requests\n",
    "from dotenv import load_dotenv\n",
    "import os"
   ]
  },
  {
   "cell_type": "code",
   "execution_count": 37,
   "id": "db85d78f",
   "metadata": {},
   "outputs": [
    {
     "data": {
      "text/plain": [
       "True"
      ]
     },
     "execution_count": 37,
     "metadata": {},
     "output_type": "execute_result"
    }
   ],
   "source": [
    "load_dotenv(\"../.env\")"
   ]
  },
  {
   "cell_type": "code",
   "execution_count": 6,
   "id": "2435fc4b",
   "metadata": {},
   "outputs": [],
   "source": [
    "# tool create\n",
    "\n",
    "@tool\n",
    "def multiply(a:int, b:int) -> int:\n",
    "    \"\"\"\n",
    "    Given: 2 numbers a and b\n",
    "    Returns: product of a and b\n",
    "    \"\"\"\n",
    "    return a * b"
   ]
  },
  {
   "cell_type": "code",
   "execution_count": 7,
   "id": "2dd98ab3",
   "metadata": {},
   "outputs": [
    {
     "name": "stdout",
     "output_type": "stream",
     "text": [
      "27\n"
     ]
    }
   ],
   "source": [
    "print(multiply.invoke({'a':3, 'b': 9}))"
   ]
  },
  {
   "cell_type": "code",
   "execution_count": 8,
   "id": "cdb03742",
   "metadata": {},
   "outputs": [
    {
     "data": {
      "text/plain": [
       "('multiply',\n",
       " 'Given: 2 numbers a and b\\nReturns: product of a and b',\n",
       " {'a': {'title': 'A', 'type': 'integer'},\n",
       "  'b': {'title': 'B', 'type': 'integer'}})"
      ]
     },
     "execution_count": 8,
     "metadata": {},
     "output_type": "execute_result"
    }
   ],
   "source": [
    "multiply.name, multiply.description, multiply.args"
   ]
  },
  {
   "cell_type": "code",
   "execution_count": 14,
   "id": "63fa17f2",
   "metadata": {},
   "outputs": [],
   "source": [
    "# tool bind\n",
    "\n",
    "llm = ChatGoogleGenerativeAI(model=\"gemini-2.0-flash\")\n",
    "llm_with_tools = llm.bind_tools([multiply])"
   ]
  },
  {
   "cell_type": "code",
   "execution_count": null,
   "id": "73ac87ec",
   "metadata": {},
   "outputs": [
    {
     "data": {
      "text/plain": [
       "[{'name': 'multiply',\n",
       "  'args': {'a': 5.0, 'b': 10.0},\n",
       "  'id': '4b3986e3-55b5-49c7-8d5f-79006ae061bc',\n",
       "  'type': 'tool_call'}]"
      ]
     },
     "execution_count": 19,
     "metadata": {},
     "output_type": "execute_result"
    }
   ],
   "source": [
    "# List of tool suggested by LLM\n",
    "\n",
    "llm_with_tools.invoke(\"What is 5 multiply by 10\").tool_calls"
   ]
  },
  {
   "cell_type": "code",
   "execution_count": 26,
   "id": "96ab1f57",
   "metadata": {},
   "outputs": [],
   "source": [
    "messages = []\n",
    "\n",
    "query = HumanMessage(\"What is 5 multiply by 10\")\n",
    "\n",
    "messages.append(query)\n"
   ]
  },
  {
   "cell_type": "code",
   "execution_count": 28,
   "id": "b15ec62f",
   "metadata": {},
   "outputs": [
    {
     "data": {
      "text/plain": [
       "[HumanMessage(content='What is 5 multiply by 10', additional_kwargs={}, response_metadata={})]"
      ]
     },
     "execution_count": 28,
     "metadata": {},
     "output_type": "execute_result"
    }
   ],
   "source": [
    "messages"
   ]
  },
  {
   "cell_type": "code",
   "execution_count": 30,
   "id": "3aae83f2",
   "metadata": {},
   "outputs": [
    {
     "data": {
      "text/plain": [
       "AIMessage(content='', additional_kwargs={'function_call': {'name': 'multiply', 'arguments': '{\"a\": 5.0, \"b\": 10.0}'}}, response_metadata={'prompt_feedback': {'block_reason': 0, 'safety_ratings': []}, 'finish_reason': 'STOP', 'safety_ratings': []}, id='run-8c5e8e39-dd41-4f17-aa78-90ca324763ff-0', tool_calls=[{'name': 'multiply', 'args': {'a': 5.0, 'b': 10.0}, 'id': '3b41f5c3-ddd9-49b9-8356-b35d8d49a0f6', 'type': 'tool_call'}], usage_metadata={'input_tokens': 33, 'output_tokens': 5, 'total_tokens': 38, 'input_token_details': {'cache_read': 0}})"
      ]
     },
     "execution_count": 30,
     "metadata": {},
     "output_type": "execute_result"
    }
   ],
   "source": [
    "result = llm_with_tools.invoke(messages)\n",
    "result"
   ]
  },
  {
   "cell_type": "code",
   "execution_count": 31,
   "id": "f6e72a63",
   "metadata": {},
   "outputs": [],
   "source": [
    "messages.append(result)"
   ]
  },
  {
   "cell_type": "code",
   "execution_count": 32,
   "id": "2d9a40ef",
   "metadata": {},
   "outputs": [
    {
     "data": {
      "text/plain": [
       "[HumanMessage(content='What is 5 multiply by 10', additional_kwargs={}, response_metadata={}),\n",
       " AIMessage(content='', additional_kwargs={'function_call': {'name': 'multiply', 'arguments': '{\"a\": 5.0, \"b\": 10.0}'}}, response_metadata={'prompt_feedback': {'block_reason': 0, 'safety_ratings': []}, 'finish_reason': 'STOP', 'safety_ratings': []}, id='run-8c5e8e39-dd41-4f17-aa78-90ca324763ff-0', tool_calls=[{'name': 'multiply', 'args': {'a': 5.0, 'b': 10.0}, 'id': '3b41f5c3-ddd9-49b9-8356-b35d8d49a0f6', 'type': 'tool_call'}], usage_metadata={'input_tokens': 33, 'output_tokens': 5, 'total_tokens': 38, 'input_token_details': {'cache_read': 0}})]"
      ]
     },
     "execution_count": 32,
     "metadata": {},
     "output_type": "execute_result"
    }
   ],
   "source": [
    "messages"
   ]
  },
  {
   "cell_type": "code",
   "execution_count": 24,
   "id": "5c6908e3",
   "metadata": {},
   "outputs": [
    {
     "data": {
      "text/plain": [
       "50"
      ]
     },
     "execution_count": 24,
     "metadata": {},
     "output_type": "execute_result"
    }
   ],
   "source": [
    "multiply.invoke(result.tool_calls[0]['args'])"
   ]
  },
  {
   "cell_type": "code",
   "execution_count": 33,
   "id": "f4f8b63d",
   "metadata": {},
   "outputs": [],
   "source": [
    "tool_message = multiply.invoke(result.tool_calls[0])\n",
    "messages.append(tool_message)"
   ]
  },
  {
   "cell_type": "code",
   "execution_count": 34,
   "id": "092883df",
   "metadata": {},
   "outputs": [
    {
     "data": {
      "text/plain": [
       "[HumanMessage(content='What is 5 multiply by 10', additional_kwargs={}, response_metadata={}),\n",
       " AIMessage(content='', additional_kwargs={'function_call': {'name': 'multiply', 'arguments': '{\"a\": 5.0, \"b\": 10.0}'}}, response_metadata={'prompt_feedback': {'block_reason': 0, 'safety_ratings': []}, 'finish_reason': 'STOP', 'safety_ratings': []}, id='run-8c5e8e39-dd41-4f17-aa78-90ca324763ff-0', tool_calls=[{'name': 'multiply', 'args': {'a': 5.0, 'b': 10.0}, 'id': '3b41f5c3-ddd9-49b9-8356-b35d8d49a0f6', 'type': 'tool_call'}], usage_metadata={'input_tokens': 33, 'output_tokens': 5, 'total_tokens': 38, 'input_token_details': {'cache_read': 0}}),\n",
       " ToolMessage(content='50', name='multiply', tool_call_id='3b41f5c3-ddd9-49b9-8356-b35d8d49a0f6')]"
      ]
     },
     "execution_count": 34,
     "metadata": {},
     "output_type": "execute_result"
    }
   ],
   "source": [
    "messages"
   ]
  },
  {
   "cell_type": "code",
   "execution_count": 36,
   "id": "ee6d8314",
   "metadata": {},
   "outputs": [
    {
     "data": {
      "text/plain": [
       "'The answer is 50.'"
      ]
     },
     "execution_count": 36,
     "metadata": {},
     "output_type": "execute_result"
    }
   ],
   "source": [
    "llm_with_tools.invoke(messages).content"
   ]
  },
  {
   "cell_type": "markdown",
   "id": "ccbf66d4",
   "metadata": {},
   "source": [
    "#### Currency Conversion Tool"
   ]
  },
  {
   "cell_type": "code",
   "execution_count": null,
   "id": "eb1c20e8",
   "metadata": {},
   "outputs": [],
   "source": [
    "# tool create\n",
    "\n",
    "from langchain_core.tools import InjectedToolArg\n",
    "from typing import Annotated\n",
    "\n",
    "@tool\n",
    "def get_conversion_factor(base_currency:str, target_currency:str) -> float:\n",
    "    \"\"\"\n",
    "    Fetch the currency conversion factor between a base currency and target currency.\n",
    "    \"\"\"\n",
    "    url = f\"https://v6.exchangerate-api.com/v6/{os.getenv(\"EXCHANGE_RATE_API\")}/pair/{base_currency}/{target_currency}\"\n",
    "\n",
    "    res = requests.get(url=url)\n",
    "\n",
    "    return res.json()\n"
   ]
  },
  {
   "cell_type": "code",
   "execution_count": 127,
   "id": "bd7c0785",
   "metadata": {},
   "outputs": [],
   "source": [
    "@tool\n",
    "def convert(base_currency_value: float, conversion_rate: Annotated[float, InjectedToolArg]) -> float:\n",
    "    \"\"\"\n",
    "    given a currency conversion rate, this function calculate a target currency value from a given base currency value\n",
    "    \"\"\"\n",
    "    return base_currency_value * conversion_rate"
   ]
  },
  {
   "cell_type": "code",
   "execution_count": 128,
   "id": "ec151f27",
   "metadata": {},
   "outputs": [],
   "source": [
    "# tool binding\n",
    "\n",
    "llm = ChatGoogleGenerativeAI(model='gemini-2.0-flash')\n",
    "llm_with_tools = llm.bind_tools([get_conversion_factor, convert])"
   ]
  },
  {
   "cell_type": "code",
   "execution_count": 129,
   "id": "130e84e3",
   "metadata": {},
   "outputs": [],
   "source": [
    "messages = []\n",
    "\n",
    "query = HumanMessage(\"What is the current exchange rate from USD to INR? Based on that, please convert 10 USD to INR.\")\n",
    "\n",
    "messages.append(query)"
   ]
  },
  {
   "cell_type": "code",
   "execution_count": 130,
   "id": "8c19e9ab",
   "metadata": {},
   "outputs": [
    {
     "data": {
      "text/plain": [
       "[HumanMessage(content='What is the current exchange rate from USD to INR? Based on that, please convert 10 USD to INR.', additional_kwargs={}, response_metadata={}),\n",
       " AIMessage(content='', additional_kwargs={'function_call': {'name': 'get_conversion_factor', 'arguments': '{\"target_currency\": \"INR\", \"base_currency\": \"USD\"}'}}, response_metadata={'prompt_feedback': {'block_reason': 0, 'safety_ratings': []}, 'finish_reason': 'STOP', 'safety_ratings': []}, id='run-4e7d8130-a11c-45e2-8332-20c124c317fb-0', tool_calls=[{'name': 'get_conversion_factor', 'args': {'target_currency': 'INR', 'base_currency': 'USD'}, 'id': '4d7c0223-d388-4a53-b9ef-febd872d7b0d', 'type': 'tool_call'}], usage_metadata={'input_tokens': 91, 'output_tokens': 13, 'total_tokens': 104, 'input_token_details': {'cache_read': 0}})]"
      ]
     },
     "execution_count": 130,
     "metadata": {},
     "output_type": "execute_result"
    }
   ],
   "source": [
    "ai_message = llm_with_tools.invoke(messages)\n",
    "messages.append(ai_message)\n",
    "messages"
   ]
  },
  {
   "cell_type": "code",
   "execution_count": 131,
   "id": "6d24903b",
   "metadata": {},
   "outputs": [
    {
     "data": {
      "text/plain": [
       "[{'name': 'get_conversion_factor',\n",
       "  'args': {'target_currency': 'INR', 'base_currency': 'USD'},\n",
       "  'id': '4d7c0223-d388-4a53-b9ef-febd872d7b0d',\n",
       "  'type': 'tool_call'}]"
      ]
     },
     "execution_count": 131,
     "metadata": {},
     "output_type": "execute_result"
    }
   ],
   "source": [
    "ai_message.tool_calls"
   ]
  },
  {
   "cell_type": "code",
   "execution_count": 132,
   "id": "9f795780",
   "metadata": {},
   "outputs": [],
   "source": [
    "import json\n",
    "\n",
    "for tool_call in ai_message.tool_calls:\n",
    "    # execute the 1st tool and get the conversion rate\n",
    "    if tool_call['name'] == 'get_conversion_factor':\n",
    "        tool_message1 = get_conversion_factor.invoke(tool_call)\n",
    "        \n",
    "        # fetch conversion rate\n",
    "        conversion_rate = json.loads(tool_message1.content)['conversion_rate']\n",
    "        # append this message to messages\n",
    "        messages.append(tool_message1)\n",
    "    # execute the 2nd tool and get the coverted value from 1st tool\n",
    "    if tool_call['name'] == 'convert':\n",
    "        # fetch the current argument\n",
    "        tool_call['args']['conversion_rate'] = conversion_rate\n",
    "\n",
    "        # get the converted value\n",
    "        tool_message2 = convert.invoke(tool_call)\n",
    "        # append this message to messages\n",
    "        messages.append(tool_message2)\n",
    "\n",
    "        print(tool_message2)\n",
    "\n",
    "\n",
    "\n"
   ]
  },
  {
   "cell_type": "code",
   "execution_count": 133,
   "id": "67fc560f",
   "metadata": {},
   "outputs": [
    {
     "data": {
      "text/plain": [
       "[HumanMessage(content='What is the current exchange rate from USD to INR? Based on that, please convert 10 USD to INR.', additional_kwargs={}, response_metadata={}),\n",
       " AIMessage(content='', additional_kwargs={'function_call': {'name': 'get_conversion_factor', 'arguments': '{\"target_currency\": \"INR\", \"base_currency\": \"USD\"}'}}, response_metadata={'prompt_feedback': {'block_reason': 0, 'safety_ratings': []}, 'finish_reason': 'STOP', 'safety_ratings': []}, id='run-4e7d8130-a11c-45e2-8332-20c124c317fb-0', tool_calls=[{'name': 'get_conversion_factor', 'args': {'target_currency': 'INR', 'base_currency': 'USD'}, 'id': '4d7c0223-d388-4a53-b9ef-febd872d7b0d', 'type': 'tool_call'}], usage_metadata={'input_tokens': 91, 'output_tokens': 13, 'total_tokens': 104, 'input_token_details': {'cache_read': 0}}),\n",
       " ToolMessage(content='{\"result\": \"success\", \"documentation\": \"https://www.exchangerate-api.com/docs\", \"terms_of_use\": \"https://www.exchangerate-api.com/terms\", \"time_last_update_unix\": 1750204802, \"time_last_update_utc\": \"Wed, 18 Jun 2025 00:00:02 +0000\", \"time_next_update_unix\": 1750291202, \"time_next_update_utc\": \"Thu, 19 Jun 2025 00:00:02 +0000\", \"base_code\": \"USD\", \"target_code\": \"INR\", \"conversion_rate\": 86.3359}', name='get_conversion_factor', tool_call_id='4d7c0223-d388-4a53-b9ef-febd872d7b0d')]"
      ]
     },
     "execution_count": 133,
     "metadata": {},
     "output_type": "execute_result"
    }
   ],
   "source": [
    "messages"
   ]
  },
  {
   "cell_type": "code",
   "execution_count": null,
   "id": "276e947a",
   "metadata": {},
   "outputs": [],
   "source": []
  },
  {
   "cell_type": "code",
   "execution_count": null,
   "id": "a0e5fd7c",
   "metadata": {},
   "outputs": [],
   "source": []
  },
  {
   "cell_type": "code",
   "execution_count": null,
   "id": "8d06a42b",
   "metadata": {},
   "outputs": [],
   "source": []
  },
  {
   "cell_type": "code",
   "execution_count": null,
   "id": "7f799ee3",
   "metadata": {},
   "outputs": [],
   "source": []
  }
 ],
 "metadata": {
  "kernelspec": {
   "display_name": ".venv",
   "language": "python",
   "name": "python3"
  },
  "language_info": {
   "codemirror_mode": {
    "name": "ipython",
    "version": 3
   },
   "file_extension": ".py",
   "mimetype": "text/x-python",
   "name": "python",
   "nbconvert_exporter": "python",
   "pygments_lexer": "ipython3",
   "version": "3.12.3"
  }
 },
 "nbformat": 4,
 "nbformat_minor": 5
}
