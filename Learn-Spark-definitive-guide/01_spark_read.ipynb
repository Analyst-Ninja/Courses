{
 "cells": [
  {
   "cell_type": "code",
   "execution_count": 11,
   "id": "c8b55a78-9a62-47c8-a09d-d7d6ae10fb69",
   "metadata": {},
   "outputs": [],
   "source": [
    "from pyspark.sql import SparkSession\n",
    "from pyspark import SparkContext\n",
    "from pyspark.sql.types import * \n",
    "from pyspark.sql import functions as F\n",
    "from pyspark.sql.functions import max\n",
    "\n",
    "spark = SparkSession.Builder().appName('intro_spark')\\\n",
    "        .config(\"spark.sql.session.logLevel\",\"WARN\")\\\n",
    "        .config('spark.executor.instances',\"3\")\\\n",
    "        .config('spark.executor.cores',\"4\")\\\n",
    "        .config('spark.executor.memory',\"4g\")\\\n",
    "        .config('spark.driver.cores',\"2\")\\\n",
    "        .config('spark.driver.memory',\"1g\")\\\n",
    "        .enableHiveSupport()\\\n",
    "        .getOrCreate()\n",
    "\n",
    "spark.sparkContext.setLogLevel(\"ERROR\")\n",
    "spark.conf.set('spark.sql.suffle.partitions','5')"
   ]
  },
  {
   "cell_type": "code",
   "execution_count": 2,
   "id": "ad380a83-ee8b-443e-b459-e82daf7a688b",
   "metadata": {},
   "outputs": [
    {
     "name": "stdout",
     "output_type": "stream",
     "text": [
      "+--------------------+-------------------+-----+\n",
      "|   DEST_COUNTRY_NAME|ORIGIN_COUNTRY_NAME|count|\n",
      "+--------------------+-------------------+-----+\n",
      "|       United States|            Romania|    1|\n",
      "|       United States|            Ireland|  264|\n",
      "|       United States|              India|   69|\n",
      "|               Egypt|      United States|   24|\n",
      "|   Equatorial Guinea|      United States|    1|\n",
      "|       United States|          Singapore|   25|\n",
      "|       United States|            Grenada|   54|\n",
      "|          Costa Rica|      United States|  477|\n",
      "|             Senegal|      United States|   29|\n",
      "|       United States|   Marshall Islands|   44|\n",
      "|              Guyana|      United States|   17|\n",
      "|       United States|       Sint Maarten|   53|\n",
      "|               Malta|      United States|    1|\n",
      "|             Bolivia|      United States|   46|\n",
      "|            Anguilla|      United States|   21|\n",
      "|Turks and Caicos ...|      United States|  136|\n",
      "|       United States|        Afghanistan|    2|\n",
      "|Saint Vincent and...|      United States|    1|\n",
      "|               Italy|      United States|  390|\n",
      "|       United States|             Russia|  156|\n",
      "+--------------------+-------------------+-----+\n",
      "only showing top 20 rows\n",
      "\n",
      "CPU times: user 4.84 ms, sys: 0 ns, total: 4.84 ms\n",
      "Wall time: 2.8 s\n"
     ]
    }
   ],
   "source": [
    "%%time\n",
    "flightData2010 = spark\\\n",
    "                .read\\\n",
    "                .option('inferSchema','true')\\\n",
    "                .option('header','true')\\\n",
    "                .csv(\"Spark-The-Definitive-Guide/data/flight-data/csv/2010-summary.csv\")\n",
    "flightData2010.show()"
   ]
  },
  {
   "cell_type": "code",
   "execution_count": 5,
   "id": "62a1b98f-d738-4c5f-9134-c186bad7901c",
   "metadata": {},
   "outputs": [
    {
     "data": {
      "text/plain": [
       "[Row(DEST_COUNTRY_NAME='Equatorial Guinea', ORIGIN_COUNTRY_NAME='United States', count=1),\n",
       " Row(DEST_COUNTRY_NAME='United States', ORIGIN_COUNTRY_NAME='Romania', count=1)]"
      ]
     },
     "execution_count": 5,
     "metadata": {},
     "output_type": "execute_result"
    }
   ],
   "source": [
    " flightData2010.sort('count').take(2)"
   ]
  },
  {
   "cell_type": "code",
   "execution_count": 6,
   "id": "a61e8971-0219-4949-90dd-3b2affd51d86",
   "metadata": {},
   "outputs": [],
   "source": [
    "flightData2010.createOrReplaceTempView('flightData2010')"
   ]
  },
  {
   "cell_type": "code",
   "execution_count": 7,
   "id": "580d8504-548a-4405-9dac-d3586ab56c3a",
   "metadata": {},
   "outputs": [],
   "source": [
    "sqlWay = spark.sql(\n",
    "    \"\"\"\n",
    "    SELECT DEST_COUNTRY_NAME, COUNT(1) \n",
    "    FROM flightData2010\n",
    "    GROUP BY DEST_COUNTRY_NAME\n",
    "    \"\"\"\n",
    ")\n",
    "\n",
    "dfWay = flightData2010.groupBy('DEST_COUNTRY_NAME').count()"
   ]
  },
  {
   "cell_type": "code",
   "execution_count": 8,
   "id": "524a5cf2-e361-48e3-8a5b-81270f6c6ded",
   "metadata": {},
   "outputs": [
    {
     "name": "stdout",
     "output_type": "stream",
     "text": [
      "== Physical Plan ==\n",
      "AdaptiveSparkPlan isFinalPlan=false\n",
      "+- HashAggregate(keys=[DEST_COUNTRY_NAME#17], functions=[count(1)])\n",
      "   +- Exchange hashpartitioning(DEST_COUNTRY_NAME#17, 200), ENSURE_REQUIREMENTS, [plan_id=51]\n",
      "      +- HashAggregate(keys=[DEST_COUNTRY_NAME#17], functions=[partial_count(1)])\n",
      "         +- FileScan csv [DEST_COUNTRY_NAME#17] Batched: false, DataFilters: [], Format: CSV, Location: InMemoryFileIndex(1 paths)[file:/home/de-ninja/Documents/Courses/Learn-Spark-definitive-guide/Spa..., PartitionFilters: [], PushedFilters: [], ReadSchema: struct<DEST_COUNTRY_NAME:string>\n",
      "\n",
      "\n",
      "== Physical Plan ==\n",
      "AdaptiveSparkPlan isFinalPlan=false\n",
      "+- HashAggregate(keys=[DEST_COUNTRY_NAME#17], functions=[count(1)])\n",
      "   +- Exchange hashpartitioning(DEST_COUNTRY_NAME#17, 200), ENSURE_REQUIREMENTS, [plan_id=64]\n",
      "      +- HashAggregate(keys=[DEST_COUNTRY_NAME#17], functions=[partial_count(1)])\n",
      "         +- FileScan csv [DEST_COUNTRY_NAME#17] Batched: false, DataFilters: [], Format: CSV, Location: InMemoryFileIndex(1 paths)[file:/home/de-ninja/Documents/Courses/Learn-Spark-definitive-guide/Spa..., PartitionFilters: [], PushedFilters: [], ReadSchema: struct<DEST_COUNTRY_NAME:string>\n",
      "\n",
      "\n"
     ]
    }
   ],
   "source": [
    "sqlWay.explain()\n",
    "dfWay.explain()"
   ]
  },
  {
   "cell_type": "code",
   "execution_count": 10,
   "id": "a4cb4485-dd9f-4383-b871-9dee97009898",
   "metadata": {},
   "outputs": [
    {
     "name": "stdout",
     "output_type": "stream",
     "text": [
      "+--------------------+--------+\n",
      "|   DEST_COUNTRY_NAME|count(1)|\n",
      "+--------------------+--------+\n",
      "|            Anguilla|       1|\n",
      "|              Russia|       1|\n",
      "|            Paraguay|       1|\n",
      "|             Senegal|       1|\n",
      "|              Sweden|       1|\n",
      "|            Kiribati|       1|\n",
      "|              Guyana|       1|\n",
      "|         Philippines|       1|\n",
      "|            Malaysia|       1|\n",
      "|           Singapore|       1|\n",
      "|                Fiji|       1|\n",
      "|              Turkey|       1|\n",
      "|             Germany|       1|\n",
      "|         Afghanistan|       1|\n",
      "|              Jordan|       1|\n",
      "|               Palau|       1|\n",
      "|Turks and Caicos ...|       1|\n",
      "|              France|       1|\n",
      "|              Greece|       1|\n",
      "|              Taiwan|       1|\n",
      "+--------------------+--------+\n",
      "only showing top 20 rows\n",
      "\n",
      "+--------------------+-----+\n",
      "|   DEST_COUNTRY_NAME|count|\n",
      "+--------------------+-----+\n",
      "|            Anguilla|    1|\n",
      "|              Russia|    1|\n",
      "|            Paraguay|    1|\n",
      "|             Senegal|    1|\n",
      "|              Sweden|    1|\n",
      "|            Kiribati|    1|\n",
      "|              Guyana|    1|\n",
      "|         Philippines|    1|\n",
      "|            Malaysia|    1|\n",
      "|           Singapore|    1|\n",
      "|                Fiji|    1|\n",
      "|              Turkey|    1|\n",
      "|             Germany|    1|\n",
      "|         Afghanistan|    1|\n",
      "|              Jordan|    1|\n",
      "|               Palau|    1|\n",
      "|Turks and Caicos ...|    1|\n",
      "|              France|    1|\n",
      "|              Greece|    1|\n",
      "|              Taiwan|    1|\n",
      "+--------------------+-----+\n",
      "only showing top 20 rows\n",
      "\n"
     ]
    }
   ],
   "source": [
    "sqlWay.show()\n",
    "dfWay.show()"
   ]
  },
  {
   "cell_type": "code",
   "execution_count": 15,
   "id": "56e8a957-899c-42b8-bae2-fb7008b1e195",
   "metadata": {},
   "outputs": [
    {
     "data": {
      "text/plain": [
       "[Row(max(count)=348113)]"
      ]
     },
     "execution_count": 15,
     "metadata": {},
     "output_type": "execute_result"
    }
   ],
   "source": [
    "flightData2010.select(max('count')).take(1)"
   ]
  },
  {
   "cell_type": "markdown",
   "id": "da571fa0-c11c-42e2-9965-6cfdc9cdd865",
   "metadata": {},
   "source": [
    "##### Q. Get the top 5 dest country with highest number of flights"
   ]
  },
  {
   "cell_type": "code",
   "execution_count": 23,
   "id": "d3a3bc40-d283-43af-aff9-4a908af2974e",
   "metadata": {},
   "outputs": [
    {
     "name": "stdout",
     "output_type": "stream",
     "text": [
      "+-----------------+--------------+\n",
      "|DEST_COUNTRY_NAME|num_of_flights|\n",
      "+-----------------+--------------+\n",
      "|    United States|        384932|\n",
      "|           Canada|          8271|\n",
      "|           Mexico|          6200|\n",
      "|   United Kingdom|          1629|\n",
      "|          Germany|          1392|\n",
      "+-----------------+--------------+\n",
      "\n"
     ]
    }
   ],
   "source": [
    "spark.sql(\n",
    "    \"\"\"\n",
    "    SELECT DEST_COUNTRY_NAME, SUM(count) AS num_of_flights\n",
    "    FROM flightData2010 \n",
    "    GROUP BY DEST_COUNTRY_NAME \n",
    "    ORDER BY 2 DESC\n",
    "    LIMIT 5\n",
    "    \"\"\"\n",
    ").show()"
   ]
  },
  {
   "cell_type": "code",
   "execution_count": 38,
   "id": "ce320342-8035-43d1-88ee-2e7fa41e08f8",
   "metadata": {},
   "outputs": [
    {
     "name": "stdout",
     "output_type": "stream",
     "text": [
      "+-----------------+-----------------+\n",
      "|DEST_COUNTRY_NAME|destination_total|\n",
      "+-----------------+-----------------+\n",
      "|    United States|           384932|\n",
      "|           Canada|             8271|\n",
      "|           Mexico|             6200|\n",
      "|   United Kingdom|             1629|\n",
      "|          Germany|             1392|\n",
      "+-----------------+-----------------+\n",
      "\n"
     ]
    }
   ],
   "source": [
    "flightData2010.groupBy('DEST_COUNTRY_NAME')\\\n",
    ".sum('count')\\\n",
    ".withColumnRenamed('sum(count)','destination_total')\\\n",
    ".orderBy(F.desc('destination_total'))\\\n",
    ".limit(5)\\\n",
    ".show()"
   ]
  },
  {
   "cell_type": "code",
   "execution_count": null,
   "id": "10db3b4e-fb82-40de-802f-cdbded90e1a8",
   "metadata": {},
   "outputs": [],
   "source": []
  }
 ],
 "metadata": {
  "kernelspec": {
   "display_name": "Python 3 (ipykernel)",
   "language": "python",
   "name": "python3"
  },
  "language_info": {
   "codemirror_mode": {
    "name": "ipython",
    "version": 3
   },
   "file_extension": ".py",
   "mimetype": "text/x-python",
   "name": "python",
   "nbconvert_exporter": "python",
   "pygments_lexer": "ipython3",
   "version": "3.10.12"
  }
 },
 "nbformat": 4,
 "nbformat_minor": 5
}
